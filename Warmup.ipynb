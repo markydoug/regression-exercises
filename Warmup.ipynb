{
 "cells": [
  {
   "cell_type": "code",
   "execution_count": 3,
   "id": "3326ae86",
   "metadata": {},
   "outputs": [],
   "source": [
    "def five(num):\n",
    "    if num < 5:\n",
    "        print('Less than five')\n",
    "    elif num == 5:\n",
    "        print('Equal to five')\n",
    "    else:\n",
    "        print('Greater than 5')"
   ]
  },
  {
   "cell_type": "code",
   "execution_count": 4,
   "id": "4c506e62",
   "metadata": {},
   "outputs": [
    {
     "name": "stdout",
     "output_type": "stream",
     "text": [
      "Greater than 5\n"
     ]
    }
   ],
   "source": []
  },
  {
   "cell_type": "code",
   "execution_count": null,
   "id": "5dc07fdd",
   "metadata": {},
   "outputs": [],
   "source": []
  }
 ],
 "metadata": {
  "kernelspec": {
   "display_name": "Python 3 (ipykernel)",
   "language": "python",
   "name": "python3"
  },
  "language_info": {
   "codemirror_mode": {
    "name": "ipython",
    "version": 3
   },
   "file_extension": ".py",
   "mimetype": "text/x-python",
   "name": "python",
   "nbconvert_exporter": "python",
   "pygments_lexer": "ipython3",
   "version": "3.9.12"
  }
 },
 "nbformat": 4,
 "nbformat_minor": 5
}
