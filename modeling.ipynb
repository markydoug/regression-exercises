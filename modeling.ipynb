{
 "cells": [
  {
   "cell_type": "code",
   "execution_count": 1,
   "id": "d79351ce",
   "metadata": {},
   "outputs": [],
   "source": [
    "import pandas as pd\n",
    "import numpy as np\n",
    "\n",
    "import matplotlib.pyplot as plt\n",
    "import seaborn as sns\n",
    "from scipy import stats\n",
    "import sklearn.linear_model as linear\n",
    "import sklearn.metrics as metric\n",
    "import sklearn.preprocessing as pre\n",
    "\n",
    "import warnings\n",
    "warnings.filterwarnings(\"ignore\")\n",
    "\n",
    "import wrangle as w\n",
    "import evaluate as ev"
   ]
  },
  {
   "cell_type": "code",
   "execution_count": 2,
   "id": "9c92746e",
   "metadata": {},
   "outputs": [],
   "source": [
    "zillow_outliers = w.wrangle_zillow(remove=False)"
   ]
  },
  {
   "cell_type": "code",
   "execution_count": 3,
   "id": "6be0d43a",
   "metadata": {},
   "outputs": [
    {
     "data": {
      "text/html": [
       "<div>\n",
       "<style scoped>\n",
       "    .dataframe tbody tr th:only-of-type {\n",
       "        vertical-align: middle;\n",
       "    }\n",
       "\n",
       "    .dataframe tbody tr th {\n",
       "        vertical-align: top;\n",
       "    }\n",
       "\n",
       "    .dataframe thead th {\n",
       "        text-align: right;\n",
       "    }\n",
       "</style>\n",
       "<table border=\"1\" class=\"dataframe\">\n",
       "  <thead>\n",
       "    <tr style=\"text-align: right;\">\n",
       "      <th></th>\n",
       "      <th>bedrooms</th>\n",
       "      <th>bathrooms</th>\n",
       "      <th>square_feet</th>\n",
       "      <th>tax_value</th>\n",
       "      <th>year_built</th>\n",
       "      <th>taxamount</th>\n",
       "      <th>fips</th>\n",
       "      <th>large_home</th>\n",
       "      <th>small_home</th>\n",
       "      <th>county</th>\n",
       "      <th>county_Orange</th>\n",
       "      <th>county_Ventura</th>\n",
       "      <th>2017_age</th>\n",
       "    </tr>\n",
       "  </thead>\n",
       "  <tbody>\n",
       "    <tr>\n",
       "      <th>4</th>\n",
       "      <td>4</td>\n",
       "      <td>2</td>\n",
       "      <td>3633</td>\n",
       "      <td>296425.0</td>\n",
       "      <td>2005</td>\n",
       "      <td>6941.39</td>\n",
       "      <td>6037.0</td>\n",
       "      <td>False</td>\n",
       "      <td>False</td>\n",
       "      <td>LA</td>\n",
       "      <td>0</td>\n",
       "      <td>0</td>\n",
       "      <td>12</td>\n",
       "    </tr>\n",
       "    <tr>\n",
       "      <th>6</th>\n",
       "      <td>3</td>\n",
       "      <td>4</td>\n",
       "      <td>1620</td>\n",
       "      <td>847770.0</td>\n",
       "      <td>2011</td>\n",
       "      <td>10244.94</td>\n",
       "      <td>6037.0</td>\n",
       "      <td>False</td>\n",
       "      <td>False</td>\n",
       "      <td>LA</td>\n",
       "      <td>0</td>\n",
       "      <td>0</td>\n",
       "      <td>6</td>\n",
       "    </tr>\n",
       "    <tr>\n",
       "      <th>7</th>\n",
       "      <td>3</td>\n",
       "      <td>2</td>\n",
       "      <td>2077</td>\n",
       "      <td>646760.0</td>\n",
       "      <td>1926</td>\n",
       "      <td>7924.68</td>\n",
       "      <td>6037.0</td>\n",
       "      <td>False</td>\n",
       "      <td>False</td>\n",
       "      <td>LA</td>\n",
       "      <td>0</td>\n",
       "      <td>0</td>\n",
       "      <td>91</td>\n",
       "    </tr>\n",
       "    <tr>\n",
       "      <th>11</th>\n",
       "      <td>0</td>\n",
       "      <td>0</td>\n",
       "      <td>1200</td>\n",
       "      <td>5328.0</td>\n",
       "      <td>1972</td>\n",
       "      <td>91.60</td>\n",
       "      <td>6037.0</td>\n",
       "      <td>False</td>\n",
       "      <td>True</td>\n",
       "      <td>LA</td>\n",
       "      <td>0</td>\n",
       "      <td>0</td>\n",
       "      <td>45</td>\n",
       "    </tr>\n",
       "    <tr>\n",
       "      <th>14</th>\n",
       "      <td>0</td>\n",
       "      <td>0</td>\n",
       "      <td>171</td>\n",
       "      <td>6920.0</td>\n",
       "      <td>1973</td>\n",
       "      <td>255.17</td>\n",
       "      <td>6037.0</td>\n",
       "      <td>False</td>\n",
       "      <td>True</td>\n",
       "      <td>LA</td>\n",
       "      <td>0</td>\n",
       "      <td>0</td>\n",
       "      <td>44</td>\n",
       "    </tr>\n",
       "  </tbody>\n",
       "</table>\n",
       "</div>"
      ],
      "text/plain": [
       "    bedrooms  bathrooms  square_feet  tax_value  year_built  taxamount  \\\n",
       "4          4          2         3633   296425.0        2005    6941.39   \n",
       "6          3          4         1620   847770.0        2011   10244.94   \n",
       "7          3          2         2077   646760.0        1926    7924.68   \n",
       "11         0          0         1200     5328.0        1972      91.60   \n",
       "14         0          0          171     6920.0        1973     255.17   \n",
       "\n",
       "      fips  large_home  small_home county  county_Orange  county_Ventura  \\\n",
       "4   6037.0       False       False     LA              0               0   \n",
       "6   6037.0       False       False     LA              0               0   \n",
       "7   6037.0       False       False     LA              0               0   \n",
       "11  6037.0       False        True     LA              0               0   \n",
       "14  6037.0       False        True     LA              0               0   \n",
       "\n",
       "    2017_age  \n",
       "4         12  \n",
       "6          6  \n",
       "7         91  \n",
       "11        45  \n",
       "14        44  "
      ]
     },
     "execution_count": 3,
     "metadata": {},
     "output_type": "execute_result"
    }
   ],
   "source": [
    "zillow_outliers.head()"
   ]
  },
  {
   "cell_type": "code",
   "execution_count": 4,
   "id": "81369124",
   "metadata": {},
   "outputs": [
    {
     "name": "stdout",
     "output_type": "stream",
     "text": [
      "<class 'pandas.core.frame.DataFrame'>\n",
      "Int64Index: 2140235 entries, 4 to 2152862\n",
      "Data columns (total 13 columns):\n",
      " #   Column          Non-Null Count    Dtype  \n",
      "---  ------          --------------    -----  \n",
      " 0   bedrooms        2140235 non-null  int64  \n",
      " 1   bathrooms       2140235 non-null  int64  \n",
      " 2   square_feet     2140235 non-null  int64  \n",
      " 3   tax_value       2140235 non-null  float64\n",
      " 4   year_built      2140235 non-null  int64  \n",
      " 5   taxamount       2140235 non-null  float64\n",
      " 6   fips            2140235 non-null  float64\n",
      " 7   large_home      2140235 non-null  bool   \n",
      " 8   small_home      2140235 non-null  bool   \n",
      " 9   county          2140235 non-null  object \n",
      " 10  county_Orange   2140235 non-null  uint8  \n",
      " 11  county_Ventura  2140235 non-null  uint8  \n",
      " 12  2017_age        2140235 non-null  int64  \n",
      "dtypes: bool(2), float64(3), int64(5), object(1), uint8(2)\n",
      "memory usage: 171.5+ MB\n"
     ]
    }
   ],
   "source": [
    "zillow_outliers.info(show_counts=True)"
   ]
  },
  {
   "cell_type": "code",
   "execution_count": 5,
   "id": "78570c6d",
   "metadata": {},
   "outputs": [
    {
     "data": {
      "text/html": [
       "<div>\n",
       "<style scoped>\n",
       "    .dataframe tbody tr th:only-of-type {\n",
       "        vertical-align: middle;\n",
       "    }\n",
       "\n",
       "    .dataframe tbody tr th {\n",
       "        vertical-align: top;\n",
       "    }\n",
       "\n",
       "    .dataframe thead th {\n",
       "        text-align: right;\n",
       "    }\n",
       "</style>\n",
       "<table border=\"1\" class=\"dataframe\">\n",
       "  <thead>\n",
       "    <tr style=\"text-align: right;\">\n",
       "      <th></th>\n",
       "      <th>count</th>\n",
       "      <th>unique</th>\n",
       "      <th>top</th>\n",
       "      <th>freq</th>\n",
       "      <th>mean</th>\n",
       "      <th>std</th>\n",
       "      <th>min</th>\n",
       "      <th>25%</th>\n",
       "      <th>50%</th>\n",
       "      <th>75%</th>\n",
       "      <th>max</th>\n",
       "    </tr>\n",
       "  </thead>\n",
       "  <tbody>\n",
       "    <tr>\n",
       "      <th>bedrooms</th>\n",
       "      <td>2140235.0</td>\n",
       "      <td>NaN</td>\n",
       "      <td>NaN</td>\n",
       "      <td>NaN</td>\n",
       "      <td>3.301419</td>\n",
       "      <td>0.9326</td>\n",
       "      <td>0.0</td>\n",
       "      <td>3.0</td>\n",
       "      <td>3.0</td>\n",
       "      <td>4.0</td>\n",
       "      <td>25.0</td>\n",
       "    </tr>\n",
       "    <tr>\n",
       "      <th>bathrooms</th>\n",
       "      <td>2140235.0</td>\n",
       "      <td>NaN</td>\n",
       "      <td>NaN</td>\n",
       "      <td>NaN</td>\n",
       "      <td>2.186612</td>\n",
       "      <td>0.973504</td>\n",
       "      <td>0.0</td>\n",
       "      <td>2.0</td>\n",
       "      <td>2.0</td>\n",
       "      <td>3.0</td>\n",
       "      <td>32.0</td>\n",
       "    </tr>\n",
       "    <tr>\n",
       "      <th>square_feet</th>\n",
       "      <td>2140235.0</td>\n",
       "      <td>NaN</td>\n",
       "      <td>NaN</td>\n",
       "      <td>NaN</td>\n",
       "      <td>1863.19397</td>\n",
       "      <td>1221.754161</td>\n",
       "      <td>1.0</td>\n",
       "      <td>1258.0</td>\n",
       "      <td>1623.0</td>\n",
       "      <td>2208.0</td>\n",
       "      <td>952576.0</td>\n",
       "    </tr>\n",
       "    <tr>\n",
       "      <th>tax_value</th>\n",
       "      <td>2140235.0</td>\n",
       "      <td>NaN</td>\n",
       "      <td>NaN</td>\n",
       "      <td>NaN</td>\n",
       "      <td>460641.625164</td>\n",
       "      <td>677157.635675</td>\n",
       "      <td>22.0</td>\n",
       "      <td>189166.0</td>\n",
       "      <td>328296.0</td>\n",
       "      <td>534606.0</td>\n",
       "      <td>90188462.0</td>\n",
       "    </tr>\n",
       "    <tr>\n",
       "      <th>year_built</th>\n",
       "      <td>2140235.0</td>\n",
       "      <td>NaN</td>\n",
       "      <td>NaN</td>\n",
       "      <td>NaN</td>\n",
       "      <td>1960.967545</td>\n",
       "      <td>22.150563</td>\n",
       "      <td>1801.0</td>\n",
       "      <td>1949.0</td>\n",
       "      <td>1958.0</td>\n",
       "      <td>1976.0</td>\n",
       "      <td>2016.0</td>\n",
       "    </tr>\n",
       "    <tr>\n",
       "      <th>taxamount</th>\n",
       "      <td>2140235.0</td>\n",
       "      <td>NaN</td>\n",
       "      <td>NaN</td>\n",
       "      <td>NaN</td>\n",
       "      <td>5616.711322</td>\n",
       "      <td>7814.562798</td>\n",
       "      <td>6.34</td>\n",
       "      <td>2540.85</td>\n",
       "      <td>4111.47</td>\n",
       "      <td>6411.93</td>\n",
       "      <td>1078101.87</td>\n",
       "    </tr>\n",
       "    <tr>\n",
       "      <th>fips</th>\n",
       "      <td>2140235.0</td>\n",
       "      <td>NaN</td>\n",
       "      <td>NaN</td>\n",
       "      <td>NaN</td>\n",
       "      <td>6048.309556</td>\n",
       "      <td>20.34491</td>\n",
       "      <td>6037.0</td>\n",
       "      <td>6037.0</td>\n",
       "      <td>6037.0</td>\n",
       "      <td>6059.0</td>\n",
       "      <td>6111.0</td>\n",
       "    </tr>\n",
       "    <tr>\n",
       "      <th>large_home</th>\n",
       "      <td>2140235</td>\n",
       "      <td>2</td>\n",
       "      <td>False</td>\n",
       "      <td>2019146</td>\n",
       "      <td>NaN</td>\n",
       "      <td>NaN</td>\n",
       "      <td>NaN</td>\n",
       "      <td>NaN</td>\n",
       "      <td>NaN</td>\n",
       "      <td>NaN</td>\n",
       "      <td>NaN</td>\n",
       "    </tr>\n",
       "    <tr>\n",
       "      <th>small_home</th>\n",
       "      <td>2140235</td>\n",
       "      <td>2</td>\n",
       "      <td>False</td>\n",
       "      <td>2112157</td>\n",
       "      <td>NaN</td>\n",
       "      <td>NaN</td>\n",
       "      <td>NaN</td>\n",
       "      <td>NaN</td>\n",
       "      <td>NaN</td>\n",
       "      <td>NaN</td>\n",
       "      <td>NaN</td>\n",
       "    </tr>\n",
       "    <tr>\n",
       "      <th>county</th>\n",
       "      <td>2140235</td>\n",
       "      <td>3</td>\n",
       "      <td>LA</td>\n",
       "      <td>1425207</td>\n",
       "      <td>NaN</td>\n",
       "      <td>NaN</td>\n",
       "      <td>NaN</td>\n",
       "      <td>NaN</td>\n",
       "      <td>NaN</td>\n",
       "      <td>NaN</td>\n",
       "      <td>NaN</td>\n",
       "    </tr>\n",
       "    <tr>\n",
       "      <th>county_Orange</th>\n",
       "      <td>2140235.0</td>\n",
       "      <td>NaN</td>\n",
       "      <td>NaN</td>\n",
       "      <td>NaN</td>\n",
       "      <td>0.257942</td>\n",
       "      <td>0.437502</td>\n",
       "      <td>0.0</td>\n",
       "      <td>0.0</td>\n",
       "      <td>0.0</td>\n",
       "      <td>1.0</td>\n",
       "      <td>1.0</td>\n",
       "    </tr>\n",
       "    <tr>\n",
       "      <th>county_Ventura</th>\n",
       "      <td>2140235.0</td>\n",
       "      <td>NaN</td>\n",
       "      <td>NaN</td>\n",
       "      <td>NaN</td>\n",
       "      <td>0.076146</td>\n",
       "      <td>0.265232</td>\n",
       "      <td>0.0</td>\n",
       "      <td>0.0</td>\n",
       "      <td>0.0</td>\n",
       "      <td>0.0</td>\n",
       "      <td>1.0</td>\n",
       "    </tr>\n",
       "    <tr>\n",
       "      <th>2017_age</th>\n",
       "      <td>2140235.0</td>\n",
       "      <td>NaN</td>\n",
       "      <td>NaN</td>\n",
       "      <td>NaN</td>\n",
       "      <td>56.032455</td>\n",
       "      <td>22.150563</td>\n",
       "      <td>1.0</td>\n",
       "      <td>41.0</td>\n",
       "      <td>59.0</td>\n",
       "      <td>68.0</td>\n",
       "      <td>216.0</td>\n",
       "    </tr>\n",
       "  </tbody>\n",
       "</table>\n",
       "</div>"
      ],
      "text/plain": [
       "                    count unique    top     freq           mean  \\\n",
       "bedrooms        2140235.0    NaN    NaN      NaN       3.301419   \n",
       "bathrooms       2140235.0    NaN    NaN      NaN       2.186612   \n",
       "square_feet     2140235.0    NaN    NaN      NaN     1863.19397   \n",
       "tax_value       2140235.0    NaN    NaN      NaN  460641.625164   \n",
       "year_built      2140235.0    NaN    NaN      NaN    1960.967545   \n",
       "taxamount       2140235.0    NaN    NaN      NaN    5616.711322   \n",
       "fips            2140235.0    NaN    NaN      NaN    6048.309556   \n",
       "large_home        2140235      2  False  2019146            NaN   \n",
       "small_home        2140235      2  False  2112157            NaN   \n",
       "county            2140235      3     LA  1425207            NaN   \n",
       "county_Orange   2140235.0    NaN    NaN      NaN       0.257942   \n",
       "county_Ventura  2140235.0    NaN    NaN      NaN       0.076146   \n",
       "2017_age        2140235.0    NaN    NaN      NaN      56.032455   \n",
       "\n",
       "                          std     min       25%       50%       75%  \\\n",
       "bedrooms               0.9326     0.0       3.0       3.0       4.0   \n",
       "bathrooms            0.973504     0.0       2.0       2.0       3.0   \n",
       "square_feet       1221.754161     1.0    1258.0    1623.0    2208.0   \n",
       "tax_value       677157.635675    22.0  189166.0  328296.0  534606.0   \n",
       "year_built          22.150563  1801.0    1949.0    1958.0    1976.0   \n",
       "taxamount         7814.562798    6.34   2540.85   4111.47   6411.93   \n",
       "fips                 20.34491  6037.0    6037.0    6037.0    6059.0   \n",
       "large_home                NaN     NaN       NaN       NaN       NaN   \n",
       "small_home                NaN     NaN       NaN       NaN       NaN   \n",
       "county                    NaN     NaN       NaN       NaN       NaN   \n",
       "county_Orange        0.437502     0.0       0.0       0.0       1.0   \n",
       "county_Ventura       0.265232     0.0       0.0       0.0       0.0   \n",
       "2017_age            22.150563     1.0      41.0      59.0      68.0   \n",
       "\n",
       "                       max  \n",
       "bedrooms              25.0  \n",
       "bathrooms             32.0  \n",
       "square_feet       952576.0  \n",
       "tax_value       90188462.0  \n",
       "year_built          2016.0  \n",
       "taxamount       1078101.87  \n",
       "fips                6111.0  \n",
       "large_home             NaN  \n",
       "small_home             NaN  \n",
       "county                 NaN  \n",
       "county_Orange          1.0  \n",
       "county_Ventura         1.0  \n",
       "2017_age             216.0  "
      ]
     },
     "execution_count": 5,
     "metadata": {},
     "output_type": "execute_result"
    }
   ],
   "source": [
    "zillow_outliers.describe(include='all').T"
   ]
  },
  {
   "cell_type": "code",
   "execution_count": 6,
   "id": "143f1ca4",
   "metadata": {},
   "outputs": [],
   "source": [
    "train, validate, test = w.split_data(zillow_outliers)"
   ]
  },
  {
   "cell_type": "code",
   "execution_count": 7,
   "id": "732ff95b",
   "metadata": {},
   "outputs": [],
   "source": [
    "train_scaled, validate_scaled, test_scaled = w.scale_zillow(train, validate, test)"
   ]
  },
  {
   "cell_type": "code",
   "execution_count": 8,
   "id": "27dfcfce",
   "metadata": {},
   "outputs": [
    {
     "data": {
      "text/html": [
       "<div>\n",
       "<style scoped>\n",
       "    .dataframe tbody tr th:only-of-type {\n",
       "        vertical-align: middle;\n",
       "    }\n",
       "\n",
       "    .dataframe tbody tr th {\n",
       "        vertical-align: top;\n",
       "    }\n",
       "\n",
       "    .dataframe thead th {\n",
       "        text-align: right;\n",
       "    }\n",
       "</style>\n",
       "<table border=\"1\" class=\"dataframe\">\n",
       "  <thead>\n",
       "    <tr style=\"text-align: right;\">\n",
       "      <th></th>\n",
       "      <th>bedrooms</th>\n",
       "      <th>bathrooms</th>\n",
       "      <th>square_feet</th>\n",
       "      <th>tax_value</th>\n",
       "      <th>year_built</th>\n",
       "      <th>taxamount</th>\n",
       "      <th>fips</th>\n",
       "      <th>large_home</th>\n",
       "      <th>small_home</th>\n",
       "      <th>county</th>\n",
       "      <th>county_Orange</th>\n",
       "      <th>county_Ventura</th>\n",
       "      <th>2017_age</th>\n",
       "    </tr>\n",
       "  </thead>\n",
       "  <tbody>\n",
       "    <tr>\n",
       "      <th>894766</th>\n",
       "      <td>3</td>\n",
       "      <td>2</td>\n",
       "      <td>-0.473810</td>\n",
       "      <td>424000.0</td>\n",
       "      <td>1958</td>\n",
       "      <td>0.351170</td>\n",
       "      <td>6037.0</td>\n",
       "      <td>False</td>\n",
       "      <td>False</td>\n",
       "      <td>LA</td>\n",
       "      <td>0</td>\n",
       "      <td>0</td>\n",
       "      <td>59</td>\n",
       "    </tr>\n",
       "    <tr>\n",
       "      <th>1229589</th>\n",
       "      <td>3</td>\n",
       "      <td>2</td>\n",
       "      <td>-1.202347</td>\n",
       "      <td>381638.0</td>\n",
       "      <td>1976</td>\n",
       "      <td>0.365723</td>\n",
       "      <td>6037.0</td>\n",
       "      <td>False</td>\n",
       "      <td>False</td>\n",
       "      <td>LA</td>\n",
       "      <td>0</td>\n",
       "      <td>0</td>\n",
       "      <td>41</td>\n",
       "    </tr>\n",
       "    <tr>\n",
       "      <th>319895</th>\n",
       "      <td>3</td>\n",
       "      <td>2</td>\n",
       "      <td>-0.276998</td>\n",
       "      <td>280030.0</td>\n",
       "      <td>1958</td>\n",
       "      <td>-0.343449</td>\n",
       "      <td>6059.0</td>\n",
       "      <td>False</td>\n",
       "      <td>False</td>\n",
       "      <td>Orange</td>\n",
       "      <td>1</td>\n",
       "      <td>0</td>\n",
       "      <td>59</td>\n",
       "    </tr>\n",
       "    <tr>\n",
       "      <th>548848</th>\n",
       "      <td>3</td>\n",
       "      <td>3</td>\n",
       "      <td>0.686985</td>\n",
       "      <td>249000.0</td>\n",
       "      <td>2005</td>\n",
       "      <td>0.332306</td>\n",
       "      <td>6037.0</td>\n",
       "      <td>False</td>\n",
       "      <td>False</td>\n",
       "      <td>LA</td>\n",
       "      <td>0</td>\n",
       "      <td>0</td>\n",
       "      <td>12</td>\n",
       "    </tr>\n",
       "    <tr>\n",
       "      <th>152577</th>\n",
       "      <td>4</td>\n",
       "      <td>3</td>\n",
       "      <td>0.654930</td>\n",
       "      <td>336285.0</td>\n",
       "      <td>1963</td>\n",
       "      <td>0.054376</td>\n",
       "      <td>6037.0</td>\n",
       "      <td>False</td>\n",
       "      <td>False</td>\n",
       "      <td>LA</td>\n",
       "      <td>0</td>\n",
       "      <td>0</td>\n",
       "      <td>54</td>\n",
       "    </tr>\n",
       "  </tbody>\n",
       "</table>\n",
       "</div>"
      ],
      "text/plain": [
       "         bedrooms  bathrooms  square_feet  tax_value  year_built  taxamount  \\\n",
       "894766          3          2    -0.473810   424000.0        1958   0.351170   \n",
       "1229589         3          2    -1.202347   381638.0        1976   0.365723   \n",
       "319895          3          2    -0.276998   280030.0        1958  -0.343449   \n",
       "548848          3          3     0.686985   249000.0        2005   0.332306   \n",
       "152577          4          3     0.654930   336285.0        1963   0.054376   \n",
       "\n",
       "           fips  large_home  small_home  county  county_Orange  \\\n",
       "894766   6037.0       False       False      LA              0   \n",
       "1229589  6037.0       False       False      LA              0   \n",
       "319895   6059.0       False       False  Orange              1   \n",
       "548848   6037.0       False       False      LA              0   \n",
       "152577   6037.0       False       False      LA              0   \n",
       "\n",
       "         county_Ventura  2017_age  \n",
       "894766                0        59  \n",
       "1229589               0        41  \n",
       "319895                0        59  \n",
       "548848                0        12  \n",
       "152577                0        54  "
      ]
     },
     "execution_count": 8,
     "metadata": {},
     "output_type": "execute_result"
    }
   ],
   "source": [
    "train_scaled.head()"
   ]
  },
  {
   "cell_type": "code",
   "execution_count": 9,
   "id": "858b337f",
   "metadata": {},
   "outputs": [],
   "source": [
    "def prep_for_model(train, validate, test, target):\n",
    "    '''\n",
    "    Takes in train, validate, and test data frames\n",
    "    then splits  for X (all variables but target variable) \n",
    "    and y (only target variable) for each data frame\n",
    "    '''\n",
    "\n",
    "    X_train = train.drop(columns=target)\n",
    "    y_train = train[target]\n",
    "\n",
    "    X_validate = validate.drop(columns=target)\n",
    "    y_validate = validate[target]\n",
    "\n",
    "    X_test = test.drop(columns=target)\n",
    "    y_test = test[target]\n",
    "\n",
    "    return X_train, y_train, X_validate, y_validate, X_test, y_test\n"
   ]
  },
  {
   "cell_type": "code",
   "execution_count": 10,
   "id": "9e633fd2",
   "metadata": {},
   "outputs": [],
   "source": [
    "def big_zillow_wrangle(target, new = False, remove = True):\n",
    "    '''\n",
    "    Takes in the target variable, if you want new data, and \n",
    "    if you want to remove outliers. \n",
    "    Returns a cleaned zillow dataframe and split dataframe ready for \n",
    "    exploration and modeling\n",
    "    '''\n",
    "    #acquire data\n",
    "    mydf = w.aquire_zillow_data(new = new)\n",
    "    #clean data\n",
    "    mydf = w.clean_zillow(mydf, remove = remove)\n",
    "    #split data\n",
    "    train, validate, test = w.split_data(mydf)\n",
    "    #scale data\n",
    "    train_scaled, validate_scaled, test_scaled = w.scale_zillow(train, validate, test)\n",
    "    #prep for model\n",
    "    X_train, y_train, X_validate, y_validate, X_test, y_test = w.prep_for_model(train_scaled, validate_scaled, test_scaled, target)\n",
    "    #explore data\n",
    "    X_train_exp = train.drop(columns=target)\n",
    "    \n",
    "    return mydf, X_train_exp, X_train, y_train, X_validate, y_validate, X_test, y_test\n",
    "\n",
    "\n",
    "\n"
   ]
  },
  {
   "cell_type": "markdown",
   "id": "661440d7",
   "metadata": {},
   "source": [
    "## Let's try leaving in outliers"
   ]
  },
  {
   "cell_type": "code",
   "execution_count": 11,
   "id": "7285d31b",
   "metadata": {},
   "outputs": [],
   "source": [
    "mydf, X_train_exp, X_train, \\\n",
    "y_train, X_validate, y_validate, \\\n",
    "X_test, y_test = w.big_zillow_wrangle('tax_value', remove=False)"
   ]
  },
  {
   "cell_type": "code",
   "execution_count": 12,
   "id": "d7c12f20",
   "metadata": {},
   "outputs": [
    {
     "data": {
      "text/plain": [
       "(2140235, 13)"
      ]
     },
     "execution_count": 12,
     "metadata": {},
     "output_type": "execute_result"
    }
   ],
   "source": [
    "mydf.shape"
   ]
  },
  {
   "cell_type": "code",
   "execution_count": 13,
   "id": "81f59346",
   "metadata": {},
   "outputs": [
    {
     "data": {
      "text/plain": [
       "(1391152, 9)"
      ]
     },
     "execution_count": 13,
     "metadata": {},
     "output_type": "execute_result"
    }
   ],
   "source": [
    "X_train.shape"
   ]
  },
  {
   "cell_type": "code",
   "execution_count": 14,
   "id": "c4297d07",
   "metadata": {},
   "outputs": [
    {
     "data": {
      "text/html": [
       "<div>\n",
       "<style scoped>\n",
       "    .dataframe tbody tr th:only-of-type {\n",
       "        vertical-align: middle;\n",
       "    }\n",
       "\n",
       "    .dataframe tbody tr th {\n",
       "        vertical-align: top;\n",
       "    }\n",
       "\n",
       "    .dataframe thead th {\n",
       "        text-align: right;\n",
       "    }\n",
       "</style>\n",
       "<table border=\"1\" class=\"dataframe\">\n",
       "  <thead>\n",
       "    <tr style=\"text-align: right;\">\n",
       "      <th></th>\n",
       "      <th>bedrooms</th>\n",
       "      <th>bathrooms</th>\n",
       "      <th>square_feet</th>\n",
       "      <th>year_built</th>\n",
       "      <th>taxamount</th>\n",
       "      <th>fips</th>\n",
       "      <th>county_Orange</th>\n",
       "      <th>county_Ventura</th>\n",
       "      <th>2017_age</th>\n",
       "    </tr>\n",
       "  </thead>\n",
       "  <tbody>\n",
       "    <tr>\n",
       "      <th>894766</th>\n",
       "      <td>3</td>\n",
       "      <td>2</td>\n",
       "      <td>-0.475214</td>\n",
       "      <td>1958</td>\n",
       "      <td>0.345932</td>\n",
       "      <td>6037.0</td>\n",
       "      <td>0</td>\n",
       "      <td>0</td>\n",
       "      <td>59</td>\n",
       "    </tr>\n",
       "    <tr>\n",
       "      <th>1229589</th>\n",
       "      <td>3</td>\n",
       "      <td>2</td>\n",
       "      <td>-1.207532</td>\n",
       "      <td>1976</td>\n",
       "      <td>0.359558</td>\n",
       "      <td>6037.0</td>\n",
       "      <td>0</td>\n",
       "      <td>0</td>\n",
       "      <td>41</td>\n",
       "    </tr>\n",
       "    <tr>\n",
       "      <th>319895</th>\n",
       "      <td>3</td>\n",
       "      <td>2</td>\n",
       "      <td>-0.278302</td>\n",
       "      <td>1958</td>\n",
       "      <td>-0.352998</td>\n",
       "      <td>6059.0</td>\n",
       "      <td>1</td>\n",
       "      <td>0</td>\n",
       "      <td>59</td>\n",
       "    </tr>\n",
       "    <tr>\n",
       "      <th>548848</th>\n",
       "      <td>3</td>\n",
       "      <td>3</td>\n",
       "      <td>0.688913</td>\n",
       "      <td>2005</td>\n",
       "      <td>0.327084</td>\n",
       "      <td>6037.0</td>\n",
       "      <td>0</td>\n",
       "      <td>0</td>\n",
       "      <td>12</td>\n",
       "    </tr>\n",
       "    <tr>\n",
       "      <th>152577</th>\n",
       "      <td>4</td>\n",
       "      <td>3</td>\n",
       "      <td>0.658043</td>\n",
       "      <td>1963</td>\n",
       "      <td>0.041784</td>\n",
       "      <td>6037.0</td>\n",
       "      <td>0</td>\n",
       "      <td>0</td>\n",
       "      <td>54</td>\n",
       "    </tr>\n",
       "  </tbody>\n",
       "</table>\n",
       "</div>"
      ],
      "text/plain": [
       "         bedrooms  bathrooms  square_feet  year_built  taxamount    fips  \\\n",
       "894766          3          2    -0.475214        1958   0.345932  6037.0   \n",
       "1229589         3          2    -1.207532        1976   0.359558  6037.0   \n",
       "319895          3          2    -0.278302        1958  -0.352998  6059.0   \n",
       "548848          3          3     0.688913        2005   0.327084  6037.0   \n",
       "152577          4          3     0.658043        1963   0.041784  6037.0   \n",
       "\n",
       "         county_Orange  county_Ventura  2017_age  \n",
       "894766               0               0        59  \n",
       "1229589              0               0        41  \n",
       "319895               1               0        59  \n",
       "548848               0               0        12  \n",
       "152577               0               0        54  "
      ]
     },
     "execution_count": 14,
     "metadata": {},
     "output_type": "execute_result"
    }
   ],
   "source": [
    "X_train.head()"
   ]
  },
  {
   "cell_type": "code",
   "execution_count": 15,
   "id": "8c1e05d3",
   "metadata": {},
   "outputs": [
    {
     "data": {
      "text/plain": [
       "894766     424000.0\n",
       "1229589    381638.0\n",
       "319895     280030.0\n",
       "548848     249000.0\n",
       "152577     336285.0\n",
       "             ...   \n",
       "1741067    457970.0\n",
       "976222     426359.0\n",
       "1792626    126862.0\n",
       "1002693    646171.0\n",
       "1408059    387762.0\n",
       "Name: tax_value, Length: 1391152, dtype: float64"
      ]
     },
     "execution_count": 15,
     "metadata": {},
     "output_type": "execute_result"
    }
   ],
   "source": [
    "y_train"
   ]
  },
  {
   "cell_type": "code",
   "execution_count": 16,
   "id": "037e6ec7",
   "metadata": {},
   "outputs": [],
   "source": [
    "# generate parameters, i.e. create model\n",
    "ols_model = linear.LinearRegression().fit(X_train, y_train)\n",
    "\n",
    "# compute predictions and add to original dataframe\n",
    "predictions = ols_model.predict(X_train)"
   ]
  },
  {
   "cell_type": "code",
   "execution_count": 17,
   "id": "6f66a75c",
   "metadata": {
    "scrolled": true
   },
   "outputs": [
    {
     "data": {
      "image/png": "[encoded data removed]",
      "text/plain": [
       "<Figure size 432x288 with 1 Axes>"
      ]
     },
     "metadata": {
      "needs_background": "light"
     },
     "output_type": "display_data"
    }
   ],
   "source": [
    "ev.plot_residuals(y_train, predictions)"
   ]
  },
  {
   "cell_type": "code",
   "execution_count": 18,
   "id": "a4866359",
   "metadata": {
    "scrolled": true
   },
   "outputs": [
    {
     "name": "stdout",
     "output_type": "stream",
     "text": [
      "SSE: 3.5236155397457984e+17\n",
      "SSE_baseline: 6.298867608268173e+17\n",
      "This model performs better than baseline.\n"
     ]
    }
   ],
   "source": [
    "ev.better_than_baseline(y_train, predictions)"
   ]
  },
  {
   "cell_type": "markdown",
   "id": "de7f50cf",
   "metadata": {},
   "source": [
    "## Let's take out outliers"
   ]
  },
  {
   "cell_type": "code",
   "execution_count": 19,
   "id": "81c11035",
   "metadata": {},
   "outputs": [],
   "source": [
    "mydf, X_train_exp, X_train, \\\n",
    "y_train, X_validate, y_validate, \\\n",
    "X_test, y_test = w.big_zillow_wrangle('tax_value')"
   ]
  },
  {
   "cell_type": "code",
   "execution_count": 20,
   "id": "d9d763e0",
   "metadata": {},
   "outputs": [],
   "source": [
    "# generate parameters, i.e. create model\n",
    "ols_model = linear.LinearRegression().fit(X_train, y_train)\n",
    "\n",
    "# compute predictions and add to original dataframe\n",
    "predictions = ols_model.predict(X_train)"
   ]
  },
  {
   "cell_type": "code",
   "execution_count": 21,
   "id": "58129c09",
   "metadata": {
    "scrolled": true
   },
   "outputs": [
    {
     "data": {
      "image/png": "[encoded data removed]",
      "text/plain": [
       "<Figure size 432x288 with 1 Axes>"
      ]
     },
     "metadata": {
      "needs_background": "light"
     },
     "output_type": "display_data"
    }
   ],
   "source": [
    "ev.plot_residuals(y_train, predictions)"
   ]
  },
  {
   "cell_type": "code",
   "execution_count": 22,
   "id": "c6c65530",
   "metadata": {
    "scrolled": true
   },
   "outputs": [
    {
     "name": "stdout",
     "output_type": "stream",
     "text": [
      "SSE: 4408628690052748.0\n",
      "SSE_baseline: 4.774035561028734e+16\n",
      "This model performs better than baseline.\n"
     ]
    }
   ],
   "source": [
    "ev.better_than_baseline(y_train, predictions)"
   ]
  },
  {
   "cell_type": "markdown",
   "id": "1f85a064",
   "metadata": {},
   "source": [
    "**Lower SSE is better. It means it is closer to the regression line**"
   ]
  },
  {
   "cell_type": "code",
   "execution_count": 23,
   "id": "c55870a6",
   "metadata": {},
   "outputs": [],
   "source": [
    "validate_pred = ols_model.predict(X_validate)"
   ]
  },
  {
   "cell_type": "code",
   "execution_count": 24,
   "id": "2c1be157",
   "metadata": {},
   "outputs": [
    {
     "name": "stdout",
     "output_type": "stream",
     "text": [
      "SSE: 1351355904982738.0\n",
      "SSE_baseline: 1.4673824316444792e+16\n",
      "This model performs better than baseline.\n"
     ]
    }
   ],
   "source": [
    "ev.better_than_baseline(y_validate, validate_pred)"
   ]
  },
  {
   "cell_type": "code",
   "execution_count": null,
   "id": "d40fe7a7",
   "metadata": {},
   "outputs": [],
   "source": []
  }
 ],
 "metadata": {
  "kernelspec": {
   "display_name": "Python 3 (ipykernel)",
   "language": "python",
   "name": "python3"
  },
  "language_info": {
   "codemirror_mode": {
    "name": "ipython",
    "version": 3
   },
   "file_extension": ".py",
   "mimetype": "text/x-python",
   "name": "python",
   "nbconvert_exporter": "python",
   "pygments_lexer": "ipython3",
   "version": "3.9.12"
  }
 },
 "nbformat": 4,
 "nbformat_minor": 5
}
