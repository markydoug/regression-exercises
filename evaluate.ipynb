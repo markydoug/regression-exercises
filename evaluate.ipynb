{
 "cells": [
  {
   "cell_type": "code",
   "execution_count": 33,
   "id": "858163ba",
   "metadata": {},
   "outputs": [],
   "source": [
    "import pandas as pd\n",
    "import numpy as np\n",
    "\n",
    "import matplotlib.pyplot as plt\n",
    "import seaborn as sns\n",
    "from scipy import stats\n",
    "from sklearn.linear_model import LinearRegression\n",
    "import sklearn.metrics as metric\n",
    "\n",
    "import warnings\n",
    "warnings.filterwarnings(\"ignore\")\n",
    "\n",
    "import wrangle as w\n",
    "import explore as e\n",
    "import viz"
   ]
  },
  {
   "cell_type": "markdown",
   "id": "466c61cb",
   "metadata": {},
   "source": [
    "## 1. Load your zillow dataset."
   ]
  },
  {
   "cell_type": "code",
   "execution_count": 2,
   "id": "5c9237aa",
   "metadata": {},
   "outputs": [],
   "source": [
    "zillow = w.wrangle_zillow()"
   ]
  },
  {
   "cell_type": "code",
   "execution_count": 3,
   "id": "f149653b",
   "metadata": {},
   "outputs": [],
   "source": [
    "train, validate, test = w.train_validate_test_split(zillow)"
   ]
  },
  {
   "cell_type": "markdown",
   "id": "82fc0bb7",
   "metadata": {},
   "source": [
    "## 2. Fit a linear regression model (ordinary least squares) and compute yhat, predictions of ```taxvaluedollarcnt``` using only ```calculatedfinishedsqft```."
   ]
  },
  {
   "cell_type": "code",
   "execution_count": 4,
   "id": "d0eda802",
   "metadata": {},
   "outputs": [],
   "source": [
    "train['yhat_baseline'] = train['tax_value'].mean()"
   ]
  },
  {
   "cell_type": "code",
   "execution_count": 5,
   "id": "47b09ca4",
   "metadata": {},
   "outputs": [],
   "source": [
    "# generate parameters, i.e. create model\n",
    "ols_model = LinearRegression().fit(train[['square_feet']], train.tax_value)\n",
    "\n",
    "# compute predictions and add to original dataframe\n",
    "train['yhat'] = ols_model.predict(train[['square_feet']])"
   ]
  },
  {
   "cell_type": "code",
   "execution_count": 6,
   "id": "717766e4",
   "metadata": {},
   "outputs": [
    {
     "data": {
      "text/html": [
       "<div>\n",
       "<style scoped>\n",
       "    .dataframe tbody tr th:only-of-type {\n",
       "        vertical-align: middle;\n",
       "    }\n",
       "\n",
       "    .dataframe tbody tr th {\n",
       "        vertical-align: top;\n",
       "    }\n",
       "\n",
       "    .dataframe thead th {\n",
       "        text-align: right;\n",
       "    }\n",
       "</style>\n",
       "<table border=\"1\" class=\"dataframe\">\n",
       "  <thead>\n",
       "    <tr style=\"text-align: right;\">\n",
       "      <th></th>\n",
       "      <th>bedrooms</th>\n",
       "      <th>bathrooms</th>\n",
       "      <th>square_feet</th>\n",
       "      <th>tax_value</th>\n",
       "      <th>year_built</th>\n",
       "      <th>taxamount</th>\n",
       "      <th>fips</th>\n",
       "      <th>yhat_baseline</th>\n",
       "      <th>yhat</th>\n",
       "    </tr>\n",
       "  </thead>\n",
       "  <tbody>\n",
       "    <tr>\n",
       "      <th>1569291</th>\n",
       "      <td>4.0</td>\n",
       "      <td>2.0</td>\n",
       "      <td>1281.0</td>\n",
       "      <td>227020.0</td>\n",
       "      <td>1959.0</td>\n",
       "      <td>3137.30</td>\n",
       "      <td>6059.0</td>\n",
       "      <td>327920.735279</td>\n",
       "      <td>272315.499883</td>\n",
       "    </tr>\n",
       "    <tr>\n",
       "      <th>1155731</th>\n",
       "      <td>2.0</td>\n",
       "      <td>1.0</td>\n",
       "      <td>1300.0</td>\n",
       "      <td>486700.0</td>\n",
       "      <td>1922.0</td>\n",
       "      <td>6053.90</td>\n",
       "      <td>6037.0</td>\n",
       "      <td>327920.735279</td>\n",
       "      <td>275150.893648</td>\n",
       "    </tr>\n",
       "    <tr>\n",
       "      <th>146488</th>\n",
       "      <td>4.0</td>\n",
       "      <td>3.0</td>\n",
       "      <td>2521.0</td>\n",
       "      <td>424287.0</td>\n",
       "      <td>1974.0</td>\n",
       "      <td>4997.89</td>\n",
       "      <td>6037.0</td>\n",
       "      <td>327920.735279</td>\n",
       "      <td>457362.250856</td>\n",
       "    </tr>\n",
       "    <tr>\n",
       "      <th>1223991</th>\n",
       "      <td>3.0</td>\n",
       "      <td>1.0</td>\n",
       "      <td>1349.0</td>\n",
       "      <td>327116.0</td>\n",
       "      <td>1954.0</td>\n",
       "      <td>4055.81</td>\n",
       "      <td>6037.0</td>\n",
       "      <td>327920.735279</td>\n",
       "      <td>282463.224936</td>\n",
       "    </tr>\n",
       "    <tr>\n",
       "      <th>269816</th>\n",
       "      <td>4.0</td>\n",
       "      <td>2.0</td>\n",
       "      <td>2399.0</td>\n",
       "      <td>369553.0</td>\n",
       "      <td>1985.0</td>\n",
       "      <td>4696.98</td>\n",
       "      <td>6111.0</td>\n",
       "      <td>327920.735279</td>\n",
       "      <td>439156.038260</td>\n",
       "    </tr>\n",
       "  </tbody>\n",
       "</table>\n",
       "</div>"
      ],
      "text/plain": [
       "         bedrooms  bathrooms  square_feet  tax_value  year_built  taxamount  \\\n",
       "1569291       4.0        2.0       1281.0   227020.0      1959.0    3137.30   \n",
       "1155731       2.0        1.0       1300.0   486700.0      1922.0    6053.90   \n",
       "146488        4.0        3.0       2521.0   424287.0      1974.0    4997.89   \n",
       "1223991       3.0        1.0       1349.0   327116.0      1954.0    4055.81   \n",
       "269816        4.0        2.0       2399.0   369553.0      1985.0    4696.98   \n",
       "\n",
       "           fips  yhat_baseline           yhat  \n",
       "1569291  6059.0  327920.735279  272315.499883  \n",
       "1155731  6037.0  327920.735279  275150.893648  \n",
       "146488   6037.0  327920.735279  457362.250856  \n",
       "1223991  6037.0  327920.735279  282463.224936  \n",
       "269816   6111.0  327920.735279  439156.038260  "
      ]
     },
     "execution_count": 6,
     "metadata": {},
     "output_type": "execute_result"
    }
   ],
   "source": [
    "train.head()"
   ]
  },
  {
   "cell_type": "markdown",
   "id": "2bec3049",
   "metadata": {},
   "source": [
    "## 3. Plot the residuals for the linear regression model that you made."
   ]
  },
  {
   "cell_type": "code",
   "execution_count": 7,
   "id": "8c3de3ee",
   "metadata": {},
   "outputs": [],
   "source": [
    "# compute residuals\n",
    "train['residual'] = train['yhat'] - train['tax_value']\n",
    "train['residual_baseline'] = train['yhat_baseline'] - train['tax_value']"
   ]
  },
  {
   "cell_type": "code",
   "execution_count": 19,
   "id": "6780bf7f",
   "metadata": {
    "scrolled": true
   },
   "outputs": [
    {
     "data": {
      "image/png": "[encoded data removed]",
      "text/plain": [
       "<Figure size 432x288 with 1 Axes>"
      ]
     },
     "metadata": {
      "needs_background": "light"
     },
     "output_type": "display_data"
    }
   ],
   "source": [
    "plt.scatter(data=train, x='square_feet', y='residual_baseline');\n",
    "\n"
   ]
  },
  {
   "cell_type": "code",
   "execution_count": 20,
   "id": "0cbc8245",
   "metadata": {},
   "outputs": [
    {
     "data": {
      "image/png": "[encoded data removed]",
      "text/plain": [
       "<Figure size 432x288 with 1 Axes>"
      ]
     },
     "metadata": {
      "needs_background": "light"
     },
     "output_type": "display_data"
    }
   ],
   "source": [
    "plt.scatter(data=train, x='square_feet', y='residual');"
   ]
  },
  {
   "cell_type": "markdown",
   "id": "87a3bd65",
   "metadata": {},
   "source": [
    "## 4. Calculate the sum of squared errors, explained sum of squares, total sum of squares, mean squared error, and root mean squared error for your model."
   ]
  },
  {
   "cell_type": "code",
   "execution_count": 9,
   "id": "c9ea148f",
   "metadata": {},
   "outputs": [],
   "source": [
    "train['residual^2'] = train.residual ** 2\n",
    "\n",
    "train['residual_baseline^2'] = train.residual_baseline ** 2"
   ]
  },
  {
   "cell_type": "code",
   "execution_count": 10,
   "id": "264e7843",
   "metadata": {},
   "outputs": [
    {
     "data": {
      "text/html": [
       "<div>\n",
       "<style scoped>\n",
       "    .dataframe tbody tr th:only-of-type {\n",
       "        vertical-align: middle;\n",
       "    }\n",
       "\n",
       "    .dataframe tbody tr th {\n",
       "        vertical-align: top;\n",
       "    }\n",
       "\n",
       "    .dataframe thead th {\n",
       "        text-align: right;\n",
       "    }\n",
       "</style>\n",
       "<table border=\"1\" class=\"dataframe\">\n",
       "  <thead>\n",
       "    <tr style=\"text-align: right;\">\n",
       "      <th></th>\n",
       "      <th>bedrooms</th>\n",
       "      <th>bathrooms</th>\n",
       "      <th>square_feet</th>\n",
       "      <th>tax_value</th>\n",
       "      <th>year_built</th>\n",
       "      <th>taxamount</th>\n",
       "      <th>fips</th>\n",
       "      <th>yhat_baseline</th>\n",
       "      <th>yhat</th>\n",
       "      <th>residual</th>\n",
       "      <th>residual_baseline</th>\n",
       "      <th>residual^2</th>\n",
       "      <th>residual_baseline^2</th>\n",
       "    </tr>\n",
       "  </thead>\n",
       "  <tbody>\n",
       "    <tr>\n",
       "      <th>1569291</th>\n",
       "      <td>4.0</td>\n",
       "      <td>2.0</td>\n",
       "      <td>1281.0</td>\n",
       "      <td>227020.0</td>\n",
       "      <td>1959.0</td>\n",
       "      <td>3137.30</td>\n",
       "      <td>6059.0</td>\n",
       "      <td>327920.735279</td>\n",
       "      <td>272315.499883</td>\n",
       "      <td>45295.499883</td>\n",
       "      <td>100900.735279</td>\n",
       "      <td>2.051682e+09</td>\n",
       "      <td>1.018096e+10</td>\n",
       "    </tr>\n",
       "    <tr>\n",
       "      <th>1155731</th>\n",
       "      <td>2.0</td>\n",
       "      <td>1.0</td>\n",
       "      <td>1300.0</td>\n",
       "      <td>486700.0</td>\n",
       "      <td>1922.0</td>\n",
       "      <td>6053.90</td>\n",
       "      <td>6037.0</td>\n",
       "      <td>327920.735279</td>\n",
       "      <td>275150.893648</td>\n",
       "      <td>-211549.106352</td>\n",
       "      <td>-158779.264721</td>\n",
       "      <td>4.475302e+10</td>\n",
       "      <td>2.521085e+10</td>\n",
       "    </tr>\n",
       "    <tr>\n",
       "      <th>146488</th>\n",
       "      <td>4.0</td>\n",
       "      <td>3.0</td>\n",
       "      <td>2521.0</td>\n",
       "      <td>424287.0</td>\n",
       "      <td>1974.0</td>\n",
       "      <td>4997.89</td>\n",
       "      <td>6037.0</td>\n",
       "      <td>327920.735279</td>\n",
       "      <td>457362.250856</td>\n",
       "      <td>33075.250856</td>\n",
       "      <td>-96366.264721</td>\n",
       "      <td>1.093972e+09</td>\n",
       "      <td>9.286457e+09</td>\n",
       "    </tr>\n",
       "    <tr>\n",
       "      <th>1223991</th>\n",
       "      <td>3.0</td>\n",
       "      <td>1.0</td>\n",
       "      <td>1349.0</td>\n",
       "      <td>327116.0</td>\n",
       "      <td>1954.0</td>\n",
       "      <td>4055.81</td>\n",
       "      <td>6037.0</td>\n",
       "      <td>327920.735279</td>\n",
       "      <td>282463.224936</td>\n",
       "      <td>-44652.775064</td>\n",
       "      <td>804.735279</td>\n",
       "      <td>1.993870e+09</td>\n",
       "      <td>6.475989e+05</td>\n",
       "    </tr>\n",
       "    <tr>\n",
       "      <th>269816</th>\n",
       "      <td>4.0</td>\n",
       "      <td>2.0</td>\n",
       "      <td>2399.0</td>\n",
       "      <td>369553.0</td>\n",
       "      <td>1985.0</td>\n",
       "      <td>4696.98</td>\n",
       "      <td>6111.0</td>\n",
       "      <td>327920.735279</td>\n",
       "      <td>439156.038260</td>\n",
       "      <td>69603.038260</td>\n",
       "      <td>-41632.264721</td>\n",
       "      <td>4.844583e+09</td>\n",
       "      <td>1.733245e+09</td>\n",
       "    </tr>\n",
       "  </tbody>\n",
       "</table>\n",
       "</div>"
      ],
      "text/plain": [
       "         bedrooms  bathrooms  square_feet  tax_value  year_built  taxamount  \\\n",
       "1569291       4.0        2.0       1281.0   227020.0      1959.0    3137.30   \n",
       "1155731       2.0        1.0       1300.0   486700.0      1922.0    6053.90   \n",
       "146488        4.0        3.0       2521.0   424287.0      1974.0    4997.89   \n",
       "1223991       3.0        1.0       1349.0   327116.0      1954.0    4055.81   \n",
       "269816        4.0        2.0       2399.0   369553.0      1985.0    4696.98   \n",
       "\n",
       "           fips  yhat_baseline           yhat       residual  \\\n",
       "1569291  6059.0  327920.735279  272315.499883   45295.499883   \n",
       "1155731  6037.0  327920.735279  275150.893648 -211549.106352   \n",
       "146488   6037.0  327920.735279  457362.250856   33075.250856   \n",
       "1223991  6037.0  327920.735279  282463.224936  -44652.775064   \n",
       "269816   6111.0  327920.735279  439156.038260   69603.038260   \n",
       "\n",
       "         residual_baseline    residual^2  residual_baseline^2  \n",
       "1569291      100900.735279  2.051682e+09         1.018096e+10  \n",
       "1155731     -158779.264721  4.475302e+10         2.521085e+10  \n",
       "146488       -96366.264721  1.093972e+09         9.286457e+09  \n",
       "1223991         804.735279  1.993870e+09         6.475989e+05  \n",
       "269816       -41632.264721  4.844583e+09         1.733245e+09  "
      ]
     },
     "execution_count": 10,
     "metadata": {},
     "output_type": "execute_result"
    }
   ],
   "source": [
    "train.head()"
   ]
  },
  {
   "cell_type": "code",
   "execution_count": 28,
   "id": "b0f68a10",
   "metadata": {},
   "outputs": [
    {
     "name": "stdout",
     "output_type": "stream",
     "text": [
      "SSE = 3.920267174056877e+16\n",
      "SSE - baseline = 4.775842325705968e+16\n"
     ]
    }
   ],
   "source": [
    "# Sum of squared errors\n",
    "SSE = sum(train['residual^2'])\n",
    "print(f\"SSE = {SSE}\")"
   ]
  },
  {
   "cell_type": "code",
   "execution_count": 12,
   "id": "58ad450a",
   "metadata": {},
   "outputs": [],
   "source": [
    "#Explained sum of squares\n",
    "ESS = sum((train.yhat - train.tax_value.mean())**2)"
   ]
  },
  {
   "cell_type": "code",
   "execution_count": 15,
   "id": "ebbb2317",
   "metadata": {},
   "outputs": [
    {
     "name": "stdout",
     "output_type": "stream",
     "text": [
      "TSS = 4.775842325706193e+16\n"
     ]
    }
   ],
   "source": [
    "#Total sum of squares\n",
    "TSS = ESS + SSE\n",
    "print(f'TSS = {TSS}')"
   ]
  },
  {
   "cell_type": "code",
   "execution_count": 27,
   "id": "17f0a4ba",
   "metadata": {},
   "outputs": [
    {
     "name": "stdout",
     "output_type": "stream",
     "text": [
      "MSE = 32510944113.655132\n",
      "MSE - baseline = 39606265607.1417\n"
     ]
    }
   ],
   "source": [
    "#Mean of squared error\n",
    "MSE = SSE/len(train)\n",
    "\n",
    "print(f\"MSE = {MSE}\")"
   ]
  },
  {
   "cell_type": "code",
   "execution_count": 26,
   "id": "a0f56545",
   "metadata": {},
   "outputs": [
    {
     "name": "stdout",
     "output_type": "stream",
     "text": [
      "RMSE = 180307.9147282646\n",
      "RMSE - baseline = 199013.22972893462\n"
     ]
    }
   ],
   "source": [
    "#Root mean squared error\n",
    "from math import sqrt\n",
    "RMSE = sqrt(MSE)\n",
    "\n",
    "print(f\"RMSE = {RMSE}\")"
   ]
  },
  {
   "cell_type": "markdown",
   "id": "def320d4",
   "metadata": {},
   "source": [
    "## 5. Calculate the sum of squared errors, mean squared error, and root mean squared error for the baseline model (i.e. a model that always predicts the average taxvaluedollarcnt amount)."
   ]
  },
  {
   "cell_type": "code",
   "execution_count": 29,
   "id": "a30b37b7",
   "metadata": {},
   "outputs": [
    {
     "name": "stdout",
     "output_type": "stream",
     "text": [
      "SSE - baseline = 4.775842325705968e+16\n"
     ]
    }
   ],
   "source": [
    "#Sum of squared errors\n",
    "SSE_baseline = sum(train['residual_baseline^2'])\n",
    "print(f\"SSE - baseline = {SSE_baseline}\")"
   ]
  },
  {
   "cell_type": "code",
   "execution_count": 30,
   "id": "7b94d359",
   "metadata": {},
   "outputs": [
    {
     "name": "stdout",
     "output_type": "stream",
     "text": [
      "MSE - baseline = 39606265607.1417\n"
     ]
    }
   ],
   "source": [
    "#Mean squared error\n",
    "MSE_baseline = SSE_baseline/len(train)\n",
    "print(f\"MSE - baseline = {MSE_baseline}\", )"
   ]
  },
  {
   "cell_type": "code",
   "execution_count": 31,
   "id": "3172c198",
   "metadata": {},
   "outputs": [
    {
     "name": "stdout",
     "output_type": "stream",
     "text": [
      "RMSE - baseline = 199013.22972893462\n"
     ]
    }
   ],
   "source": [
    "#Root mean squared error\n",
    "RMSE_baseline = sqrt(MSE_baseline)\n",
    "print(f\"RMSE - baseline = {RMSE_baseline}\")"
   ]
  },
  {
   "cell_type": "markdown",
   "id": "6d344a4d",
   "metadata": {},
   "source": [
    "## 6. Write python code that compares the sum of squared errors for your model against the sum of squared errors for the baseline model and outputs whether or not your model performs better than the baseline model."
   ]
  },
  {
   "cell_type": "code",
   "execution_count": 35,
   "id": "dc321bc4",
   "metadata": {},
   "outputs": [
    {
     "name": "stdout",
     "output_type": "stream",
     "text": [
      "SSE = 3.920267174056877e+16\n",
      "SSE - baseline = 4.775842325705968e+16\n",
      "Your model performs worse or equal to the baseline model\n"
     ]
    }
   ],
   "source": [
    "SSE = sum(train['residual^2'])\n",
    "SSE_baseline = sum(train['residual_baseline^2'])\n",
    "print(f\"SSE = {SSE}\")\n",
    "print(f\"SSE - baseline = {SSE_baseline}\")\n",
    "\n",
    "if SSE - SSE_baseline > 0:\n",
    "    print('Your model performs better than basline model!')\n",
    "else:\n",
    "    print('Your model performs worse or equal to the baseline model.')\n",
    "    \n"
   ]
  },
  {
   "cell_type": "code",
   "execution_count": null,
   "id": "64bfb5bd",
   "metadata": {},
   "outputs": [],
   "source": []
  },
  {
   "cell_type": "markdown",
   "id": "27f19fb8",
   "metadata": {},
   "source": [
    "## 7. What is the amount of variance explained in your model?"
   ]
  },
  {
   "cell_type": "code",
   "execution_count": 38,
   "id": "c9d8e8bb",
   "metadata": {},
   "outputs": [
    {
     "name": "stdout",
     "output_type": "stream",
     "text": [
      "Explained Variance = 0.17914644020884785\n"
     ]
    }
   ],
   "source": [
    "evs = metric.explained_variance_score(train.tax_value, train.yhat)\n",
    "print(f'Explained Variance = {evs}')"
   ]
  },
  {
   "cell_type": "markdown",
   "id": "6d8b37d1",
   "metadata": {},
   "source": [
    "## 8. Is your model better than the baseline model?"
   ]
  },
  {
   "cell_type": "code",
   "execution_count": null,
   "id": "c1949a77",
   "metadata": {},
   "outputs": [],
   "source": []
  },
  {
   "cell_type": "markdown",
   "id": "0e36bf9c",
   "metadata": {},
   "source": [
    "## 9. Create a file named evaluate.py that contains the following functions.\n",
    "\n",
    "- ```plot_residuals(y, yhat)```: creates a residual plot\n",
    "\n",
    "- ```regression_errors(y, yhat)```: returns the following values:\n",
    "    - sum of squared errors (SSE)\n",
    "    - explained sum of squares (ESS)\n",
    "    - total sum of squares (TSS)\n",
    "    - mean squared error (MSE)\n",
    "    - root mean squared error (RMSE)\n",
    "- ```baseline_mean_errors(y)```: computes the SSE, MSE, and RMSE for the baseline model\n",
    "- ```better_than_baseline(y, yhat)```: returns true if your model performs better than the baseline, otherwise false\n",
    "\n"
   ]
  },
  {
   "cell_type": "code",
   "execution_count": null,
   "id": "1c18b452",
   "metadata": {},
   "outputs": [],
   "source": []
  },
  {
   "cell_type": "code",
   "execution_count": null,
   "id": "19781ff9",
   "metadata": {},
   "outputs": [],
   "source": []
  },
  {
   "cell_type": "code",
   "execution_count": null,
   "id": "382bcbc6",
   "metadata": {},
   "outputs": [],
   "source": []
  }
 ],
 "metadata": {
  "kernelspec": {
   "display_name": "Python 3 (ipykernel)",
   "language": "python",
   "name": "python3"
  },
  "language_info": {
   "codemirror_mode": {
    "name": "ipython",
    "version": 3
   },
   "file_extension": ".py",
   "mimetype": "text/x-python",
   "name": "python",
   "nbconvert_exporter": "python",
   "pygments_lexer": "ipython3",
   "version": "3.9.12"
  }
 },
 "nbformat": 4,
 "nbformat_minor": 5
}
