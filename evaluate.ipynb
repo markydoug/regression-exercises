{
 "cells": [
  {
   "cell_type": "code",
   "execution_count": 3,
   "id": "8021049a",
   "metadata": {},
   "outputs": [],
   "source": [
    "import pandas as pd\n",
    "import numpy as np\n",
    "\n",
    "import matplotlib.pyplot as plt\n",
    "import seaborn as sns\n",
    "from scipy import stats\n",
    "from sklearn.linear_model import LinearRegression\n",
    "import sklearn.metrics as metric\n",
    "\n",
    "import warnings\n",
    "warnings.filterwarnings(\"ignore\")\n",
    "\n",
    "import wrangle as w\n",
    "import explore as e"
   ]
  },
  {
   "cell_type": "markdown",
   "id": "a0c10014",
   "metadata": {},
   "source": [
    "## 1. Load your zillow dataset."
   ]
  },
  {
   "cell_type": "code",
   "execution_count": 4,
   "id": "991ae894",
   "metadata": {},
   "outputs": [],
   "source": [
    "zillow = w.wrangle_zillow()"
   ]
  },
  {
   "cell_type": "code",
   "execution_count": 5,
   "id": "fc3d8bd5",
   "metadata": {},
   "outputs": [
    {
     "data": {
      "text/plain": [
       "(1854411, 7)"
      ]
     },
     "execution_count": 5,
     "metadata": {},
     "output_type": "execute_result"
    }
   ],
   "source": [
    "zillow.shape"
   ]
  },
  {
   "cell_type": "code",
   "execution_count": 3,
   "id": "dc64831d",
   "metadata": {},
   "outputs": [],
   "source": [
    "train, validate, test = w.train_validate_test_split(zillow)"
   ]
  },
  {
   "cell_type": "code",
   "execution_count": 4,
   "id": "8b285e3c",
   "metadata": {},
   "outputs": [],
   "source": [
    "X_train = train[['square_feet']]\n",
    "y_train = train.tax_value"
   ]
  },
  {
   "cell_type": "markdown",
   "id": "86af0320",
   "metadata": {},
   "source": [
    "## 2. Fit a linear regression model (ordinary least squares) and compute yhat, predictions of ```taxvaluedollarcnt``` using only ```calculatedfinishedsqft```."
   ]
  },
  {
   "cell_type": "code",
   "execution_count": 5,
   "id": "3c8d5a62",
   "metadata": {},
   "outputs": [],
   "source": [
    "# generate parameters, i.e. create model\n",
    "ols_model = LinearRegression().fit(X_train, y_train)\n",
    "\n",
    "# compute predictions and add to original dataframe\n",
    "train['yhat'] = ols_model.predict(X_train)"
   ]
  },
  {
   "cell_type": "code",
   "execution_count": 6,
   "id": "b5264cff",
   "metadata": {},
   "outputs": [],
   "source": [
    "train = train.drop(columns=['bedrooms', 'bathrooms', 'year_built', \n",
    "                   'taxamount', 'fips'])"
   ]
  },
  {
   "cell_type": "code",
   "execution_count": 7,
   "id": "f133a989",
   "metadata": {},
   "outputs": [
    {
     "data": {
      "text/html": [
       "<div>\n",
       "<style scoped>\n",
       "    .dataframe tbody tr th:only-of-type {\n",
       "        vertical-align: middle;\n",
       "    }\n",
       "\n",
       "    .dataframe tbody tr th {\n",
       "        vertical-align: top;\n",
       "    }\n",
       "\n",
       "    .dataframe thead th {\n",
       "        text-align: right;\n",
       "    }\n",
       "</style>\n",
       "<table border=\"1\" class=\"dataframe\">\n",
       "  <thead>\n",
       "    <tr style=\"text-align: right;\">\n",
       "      <th></th>\n",
       "      <th>square_feet</th>\n",
       "      <th>tax_value</th>\n",
       "      <th>yhat</th>\n",
       "    </tr>\n",
       "  </thead>\n",
       "  <tbody>\n",
       "    <tr>\n",
       "      <th>1569291</th>\n",
       "      <td>1281.0</td>\n",
       "      <td>227020.0</td>\n",
       "      <td>272315.499883</td>\n",
       "    </tr>\n",
       "    <tr>\n",
       "      <th>1155731</th>\n",
       "      <td>1300.0</td>\n",
       "      <td>486700.0</td>\n",
       "      <td>275150.893648</td>\n",
       "    </tr>\n",
       "    <tr>\n",
       "      <th>146488</th>\n",
       "      <td>2521.0</td>\n",
       "      <td>424287.0</td>\n",
       "      <td>457362.250856</td>\n",
       "    </tr>\n",
       "    <tr>\n",
       "      <th>1223991</th>\n",
       "      <td>1349.0</td>\n",
       "      <td>327116.0</td>\n",
       "      <td>282463.224936</td>\n",
       "    </tr>\n",
       "    <tr>\n",
       "      <th>269816</th>\n",
       "      <td>2399.0</td>\n",
       "      <td>369553.0</td>\n",
       "      <td>439156.038260</td>\n",
       "    </tr>\n",
       "  </tbody>\n",
       "</table>\n",
       "</div>"
      ],
      "text/plain": [
       "         square_feet  tax_value           yhat\n",
       "1569291       1281.0   227020.0  272315.499883\n",
       "1155731       1300.0   486700.0  275150.893648\n",
       "146488        2521.0   424287.0  457362.250856\n",
       "1223991       1349.0   327116.0  282463.224936\n",
       "269816        2399.0   369553.0  439156.038260"
      ]
     },
     "execution_count": 7,
     "metadata": {},
     "output_type": "execute_result"
    }
   ],
   "source": [
    "train.head()"
   ]
  },
  {
   "cell_type": "markdown",
   "id": "0b44f697",
   "metadata": {},
   "source": [
    "## 3. Plot the residuals for the linear regression model that you made."
   ]
  },
  {
   "cell_type": "code",
   "execution_count": 8,
   "id": "e38a5fe4",
   "metadata": {},
   "outputs": [],
   "source": [
    "# compute residuals\n",
    "train['residual'] = y_train - train['yhat']"
   ]
  },
  {
   "cell_type": "code",
   "execution_count": 9,
   "id": "d102532c",
   "metadata": {},
   "outputs": [
    {
     "data": {
      "text/html": [
       "<div>\n",
       "<style scoped>\n",
       "    .dataframe tbody tr th:only-of-type {\n",
       "        vertical-align: middle;\n",
       "    }\n",
       "\n",
       "    .dataframe tbody tr th {\n",
       "        vertical-align: top;\n",
       "    }\n",
       "\n",
       "    .dataframe thead th {\n",
       "        text-align: right;\n",
       "    }\n",
       "</style>\n",
       "<table border=\"1\" class=\"dataframe\">\n",
       "  <thead>\n",
       "    <tr style=\"text-align: right;\">\n",
       "      <th></th>\n",
       "      <th>square_feet</th>\n",
       "      <th>tax_value</th>\n",
       "      <th>yhat</th>\n",
       "      <th>residual</th>\n",
       "    </tr>\n",
       "  </thead>\n",
       "  <tbody>\n",
       "    <tr>\n",
       "      <th>1569291</th>\n",
       "      <td>1281.0</td>\n",
       "      <td>227020.0</td>\n",
       "      <td>272315.499883</td>\n",
       "      <td>-45295.499883</td>\n",
       "    </tr>\n",
       "    <tr>\n",
       "      <th>1155731</th>\n",
       "      <td>1300.0</td>\n",
       "      <td>486700.0</td>\n",
       "      <td>275150.893648</td>\n",
       "      <td>211549.106352</td>\n",
       "    </tr>\n",
       "    <tr>\n",
       "      <th>146488</th>\n",
       "      <td>2521.0</td>\n",
       "      <td>424287.0</td>\n",
       "      <td>457362.250856</td>\n",
       "      <td>-33075.250856</td>\n",
       "    </tr>\n",
       "    <tr>\n",
       "      <th>1223991</th>\n",
       "      <td>1349.0</td>\n",
       "      <td>327116.0</td>\n",
       "      <td>282463.224936</td>\n",
       "      <td>44652.775064</td>\n",
       "    </tr>\n",
       "    <tr>\n",
       "      <th>269816</th>\n",
       "      <td>2399.0</td>\n",
       "      <td>369553.0</td>\n",
       "      <td>439156.038260</td>\n",
       "      <td>-69603.038260</td>\n",
       "    </tr>\n",
       "  </tbody>\n",
       "</table>\n",
       "</div>"
      ],
      "text/plain": [
       "         square_feet  tax_value           yhat       residual\n",
       "1569291       1281.0   227020.0  272315.499883  -45295.499883\n",
       "1155731       1300.0   486700.0  275150.893648  211549.106352\n",
       "146488        2521.0   424287.0  457362.250856  -33075.250856\n",
       "1223991       1349.0   327116.0  282463.224936   44652.775064\n",
       "269816        2399.0   369553.0  439156.038260  -69603.038260"
      ]
     },
     "execution_count": 9,
     "metadata": {},
     "output_type": "execute_result"
    }
   ],
   "source": [
    "train.head()"
   ]
  },
  {
   "cell_type": "code",
   "execution_count": 10,
   "id": "5d536d8e",
   "metadata": {
    "scrolled": true
   },
   "outputs": [
    {
     "data": {
      "image/png": "[encoded data removed]",
      "text/plain": [
       "<Figure size 432x288 with 1 Axes>"
      ]
     },
     "metadata": {
      "needs_background": "light"
     },
     "output_type": "display_data"
    }
   ],
   "source": [
    "sns.scatterplot(data=train, x='tax_value', y='residual');\n",
    "plt.title('Residual vs y')\n",
    "plt.show()"
   ]
  },
  {
   "cell_type": "markdown",
   "id": "68619212",
   "metadata": {},
   "source": [
    "## 4. Calculate the sum of squared errors, explained sum of squares, total sum of squares, mean squared error, and root mean squared error for your model."
   ]
  },
  {
   "cell_type": "code",
   "execution_count": 11,
   "id": "75aab6f1",
   "metadata": {},
   "outputs": [],
   "source": [
    "train['residual^2'] = train.residual ** 2"
   ]
  },
  {
   "cell_type": "code",
   "execution_count": 12,
   "id": "c49a6f2d",
   "metadata": {},
   "outputs": [
    {
     "data": {
      "text/html": [
       "<div>\n",
       "<style scoped>\n",
       "    .dataframe tbody tr th:only-of-type {\n",
       "        vertical-align: middle;\n",
       "    }\n",
       "\n",
       "    .dataframe tbody tr th {\n",
       "        vertical-align: top;\n",
       "    }\n",
       "\n",
       "    .dataframe thead th {\n",
       "        text-align: right;\n",
       "    }\n",
       "</style>\n",
       "<table border=\"1\" class=\"dataframe\">\n",
       "  <thead>\n",
       "    <tr style=\"text-align: right;\">\n",
       "      <th></th>\n",
       "      <th>square_feet</th>\n",
       "      <th>tax_value</th>\n",
       "      <th>yhat</th>\n",
       "      <th>residual</th>\n",
       "      <th>residual^2</th>\n",
       "    </tr>\n",
       "  </thead>\n",
       "  <tbody>\n",
       "    <tr>\n",
       "      <th>1569291</th>\n",
       "      <td>1281.0</td>\n",
       "      <td>227020.0</td>\n",
       "      <td>272315.499883</td>\n",
       "      <td>-45295.499883</td>\n",
       "      <td>2.051682e+09</td>\n",
       "    </tr>\n",
       "    <tr>\n",
       "      <th>1155731</th>\n",
       "      <td>1300.0</td>\n",
       "      <td>486700.0</td>\n",
       "      <td>275150.893648</td>\n",
       "      <td>211549.106352</td>\n",
       "      <td>4.475302e+10</td>\n",
       "    </tr>\n",
       "    <tr>\n",
       "      <th>146488</th>\n",
       "      <td>2521.0</td>\n",
       "      <td>424287.0</td>\n",
       "      <td>457362.250856</td>\n",
       "      <td>-33075.250856</td>\n",
       "      <td>1.093972e+09</td>\n",
       "    </tr>\n",
       "    <tr>\n",
       "      <th>1223991</th>\n",
       "      <td>1349.0</td>\n",
       "      <td>327116.0</td>\n",
       "      <td>282463.224936</td>\n",
       "      <td>44652.775064</td>\n",
       "      <td>1.993870e+09</td>\n",
       "    </tr>\n",
       "    <tr>\n",
       "      <th>269816</th>\n",
       "      <td>2399.0</td>\n",
       "      <td>369553.0</td>\n",
       "      <td>439156.038260</td>\n",
       "      <td>-69603.038260</td>\n",
       "      <td>4.844583e+09</td>\n",
       "    </tr>\n",
       "  </tbody>\n",
       "</table>\n",
       "</div>"
      ],
      "text/plain": [
       "         square_feet  tax_value           yhat       residual    residual^2\n",
       "1569291       1281.0   227020.0  272315.499883  -45295.499883  2.051682e+09\n",
       "1155731       1300.0   486700.0  275150.893648  211549.106352  4.475302e+10\n",
       "146488        2521.0   424287.0  457362.250856  -33075.250856  1.093972e+09\n",
       "1223991       1349.0   327116.0  282463.224936   44652.775064  1.993870e+09\n",
       "269816        2399.0   369553.0  439156.038260  -69603.038260  4.844583e+09"
      ]
     },
     "execution_count": 12,
     "metadata": {},
     "output_type": "execute_result"
    }
   ],
   "source": [
    "train.head()"
   ]
  },
  {
   "cell_type": "code",
   "execution_count": 13,
   "id": "e5cdb0e9",
   "metadata": {},
   "outputs": [
    {
     "name": "stdout",
     "output_type": "stream",
     "text": [
      "SSE = 3.920267174056877e+16\n"
     ]
    }
   ],
   "source": [
    "# Sum of squared errors\n",
    "SSE = sum(train['residual^2'])\n",
    "print(f\"SSE = {SSE}\")"
   ]
  },
  {
   "cell_type": "code",
   "execution_count": 14,
   "id": "35d21b2d",
   "metadata": {},
   "outputs": [
    {
     "name": "stdout",
     "output_type": "stream",
     "text": [
      "ESS = 8555751516493159.0\n"
     ]
    }
   ],
   "source": [
    "#Explained sum of squares\n",
    "ESS = sum((train.yhat - y_train.mean())**2)\n",
    "print(f'ESS = {ESS}')"
   ]
  },
  {
   "cell_type": "code",
   "execution_count": 15,
   "id": "262dcb6a",
   "metadata": {},
   "outputs": [
    {
     "name": "stdout",
     "output_type": "stream",
     "text": [
      "TSS = 4.775842325706193e+16\n"
     ]
    }
   ],
   "source": [
    "#Total sum of squares\n",
    "TSS = ESS + SSE\n",
    "print(f'TSS = {TSS}')"
   ]
  },
  {
   "cell_type": "code",
   "execution_count": 16,
   "id": "9db01371",
   "metadata": {},
   "outputs": [
    {
     "name": "stdout",
     "output_type": "stream",
     "text": [
      "MSE = 32510944113.655132\n"
     ]
    }
   ],
   "source": [
    "#Mean of squared error\n",
    "MSE = SSE/len(train)\n",
    "\n",
    "print(f\"MSE = {MSE}\")"
   ]
  },
  {
   "cell_type": "code",
   "execution_count": 17,
   "id": "f8021dd1",
   "metadata": {},
   "outputs": [
    {
     "name": "stdout",
     "output_type": "stream",
     "text": [
      "RMSE = 180307.9147282646\n"
     ]
    }
   ],
   "source": [
    "#Root mean squared error\n",
    "from math import sqrt\n",
    "RMSE = sqrt(MSE)\n",
    "\n",
    "print(f\"RMSE = {RMSE}\")"
   ]
  },
  {
   "cell_type": "markdown",
   "id": "364eb002",
   "metadata": {},
   "source": [
    "## 5. Calculate the sum of squared errors, mean squared error, and root mean squared error for the baseline model (i.e. a model that always predicts the average taxvaluedollarcnt amount)."
   ]
  },
  {
   "cell_type": "code",
   "execution_count": 18,
   "id": "69c1168b",
   "metadata": {},
   "outputs": [],
   "source": [
    "train['yhat_baseline'] = y_train.mean()"
   ]
  },
  {
   "cell_type": "code",
   "execution_count": 19,
   "id": "4059feb9",
   "metadata": {},
   "outputs": [],
   "source": [
    "train['residual_baseline'] = train['yhat_baseline'] - y_train"
   ]
  },
  {
   "cell_type": "code",
   "execution_count": 20,
   "id": "553654ef",
   "metadata": {},
   "outputs": [],
   "source": [
    "train['residual_baseline^2'] = train.residual_baseline ** 2"
   ]
  },
  {
   "cell_type": "code",
   "execution_count": 21,
   "id": "3b225ae8",
   "metadata": {},
   "outputs": [
    {
     "name": "stdout",
     "output_type": "stream",
     "text": [
      "SSE - baseline = 4.775842325705968e+16\n"
     ]
    }
   ],
   "source": [
    "#Sum of squared errors\n",
    "SSE_baseline = sum(train['residual_baseline^2'])\n",
    "print(f\"SSE - baseline = {SSE_baseline}\")"
   ]
  },
  {
   "cell_type": "code",
   "execution_count": 22,
   "id": "0327df16",
   "metadata": {},
   "outputs": [
    {
     "name": "stdout",
     "output_type": "stream",
     "text": [
      "MSE - baseline = 39606265607.1417\n"
     ]
    }
   ],
   "source": [
    "#Mean squared error\n",
    "MSE_baseline = SSE_baseline/len(train)\n",
    "print(f\"MSE - baseline = {MSE_baseline}\", )"
   ]
  },
  {
   "cell_type": "code",
   "execution_count": 23,
   "id": "e14b916b",
   "metadata": {},
   "outputs": [
    {
     "name": "stdout",
     "output_type": "stream",
     "text": [
      "RMSE - baseline = 199013.22972893462\n"
     ]
    }
   ],
   "source": [
    "#Root mean squared error\n",
    "RMSE_baseline = sqrt(MSE_baseline)\n",
    "print(f\"RMSE - baseline = {RMSE_baseline}\")"
   ]
  },
  {
   "cell_type": "markdown",
   "id": "27c31229",
   "metadata": {},
   "source": [
    "## 6. Write python code that compares the sum of squared errors for your model against the sum of squared errors for the baseline model and outputs whether or not your model performs better than the baseline model."
   ]
  },
  {
   "cell_type": "code",
   "execution_count": 24,
   "id": "8863d620",
   "metadata": {},
   "outputs": [
    {
     "name": "stdout",
     "output_type": "stream",
     "text": [
      "SSE = 3.920267174056877e+16\n",
      "SSE for baseline = 4.775842325705968e+16\n",
      "Your model performs better than basline model!\n"
     ]
    }
   ],
   "source": [
    "SSE = sum(train['residual^2'])\n",
    "SSE_baseline = sum(train['residual_baseline^2'])\n",
    "print(f\"SSE = {SSE}\")\n",
    "print(f\"SSE for baseline = {SSE_baseline}\")\n",
    "\n",
    "if SSE < SSE_baseline:\n",
    "    print('Your model performs better than basline model!')\n",
    "else:\n",
    "    print('Your model performs worse or equal to the baseline model.')\n",
    "    \n"
   ]
  },
  {
   "cell_type": "markdown",
   "id": "13f5c02d",
   "metadata": {},
   "source": [
    "## 7. What is the amount of variance explained in your model?"
   ]
  },
  {
   "cell_type": "code",
   "execution_count": 25,
   "id": "120f3cc6",
   "metadata": {},
   "outputs": [
    {
     "name": "stdout",
     "output_type": "stream",
     "text": [
      "Explained Variance = 0.17914644020884785\n"
     ]
    }
   ],
   "source": [
    "evs = metric.explained_variance_score(train.tax_value, train.yhat)\n",
    "print(f'Explained Variance = {evs}')"
   ]
  },
  {
   "cell_type": "code",
   "execution_count": 26,
   "id": "5449c5a4",
   "metadata": {},
   "outputs": [
    {
     "name": "stdout",
     "output_type": "stream",
     "text": [
      "R2 score = 0.17914644020884773\n"
     ]
    }
   ],
   "source": [
    "r2 = metric.r2_score(y_train, train.yhat)\n",
    "print(f'R2 score = {r2}')"
   ]
  },
  {
   "cell_type": "markdown",
   "id": "0567967d",
   "metadata": {},
   "source": [
    "## 8. Is your model better than the baseline model?"
   ]
  },
  {
   "cell_type": "code",
   "execution_count": 27,
   "id": "18bdf3f4",
   "metadata": {},
   "outputs": [
    {
     "data": {
      "text/plain": [
       "18705.31500067003"
      ]
     },
     "execution_count": 27,
     "metadata": {},
     "output_type": "execute_result"
    }
   ],
   "source": [
    "RMSE_baseline - RMSE"
   ]
  },
  {
   "cell_type": "markdown",
   "id": "89cbd1f3",
   "metadata": {},
   "source": [
    "Better than baseline"
   ]
  },
  {
   "cell_type": "markdown",
   "id": "0dfb19da",
   "metadata": {},
   "source": [
    "## 9. Create a file named evaluate.py that contains the following functions.\n",
    "\n",
    "- ```plot_residuals(y, yhat)```: creates a residual plot\n",
    "\n",
    "- ```regression_errors(y, yhat)```: returns the following values:\n",
    "    - sum of squared errors (SSE)\n",
    "    - explained sum of squares (ESS)\n",
    "    - total sum of squares (TSS)\n",
    "    - mean squared error (MSE)\n",
    "    - root mean squared error (RMSE)\n",
    "- ```baseline_mean_errors(y)```: computes the SSE, MSE, and RMSE for the baseline model\n",
    "- ```better_than_baseline(y, yhat)```: returns true if your model performs better than the baseline, otherwise false\n",
    "\n"
   ]
  },
  {
   "cell_type": "code",
   "execution_count": 28,
   "id": "40d7cb93",
   "metadata": {},
   "outputs": [],
   "source": [
    "def plot_residuals(y, yhat):\n",
    "    residuals = y - yhat\n",
    "    sns.scatterplot(x=y, y=residuals)\n",
    "    plt.title('Residuals vs. y')\n",
    "    plt.show()"
   ]
  },
  {
   "cell_type": "code",
   "execution_count": 29,
   "id": "3ed20878",
   "metadata": {},
   "outputs": [
    {
     "data": {
      "image/png": "[encoded data removed]",
      "text/plain": [
       "<Figure size 432x288 with 1 Axes>"
      ]
     },
     "metadata": {
      "needs_background": "light"
     },
     "output_type": "display_data"
    }
   ],
   "source": [
    "plot_residuals(train.tax_value, train.yhat)"
   ]
  },
  {
   "cell_type": "code",
   "execution_count": 30,
   "id": "1a28ea2a",
   "metadata": {},
   "outputs": [],
   "source": [
    "def regression_errors(y, yhat):\n",
    "    MSE = metric.mean_squared_error(y, yhat)\n",
    "    SSE = MSE*len(y)\n",
    "    ESS = sum((yhat - y.mean())**2)\n",
    "    TSS = ESS + SSE\n",
    "    RMSE = sqrt(MSE)\n",
    "    \n",
    "    return SSE, ESS, TSS, MSE, RMSE"
   ]
  },
  {
   "cell_type": "code",
   "execution_count": 31,
   "id": "97dd0d68",
   "metadata": {},
   "outputs": [
    {
     "data": {
      "text/plain": [
       "(3.920267174056921e+16,\n",
       " 8555751516493159.0,\n",
       " 4.775842325706237e+16,\n",
       " 32510944113.6555,\n",
       " 180307.9147282656)"
      ]
     },
     "execution_count": 31,
     "metadata": {},
     "output_type": "execute_result"
    }
   ],
   "source": [
    "regression_errors(train.tax_value, train.yhat)"
   ]
  },
  {
   "cell_type": "code",
   "execution_count": 32,
   "id": "1d4c0d7d",
   "metadata": {},
   "outputs": [],
   "source": [
    "def baseline_mean_errors(y):\n",
    "    baseline = np.repeat(y.mean(), len(y))\n",
    "    \n",
    "    MSE = metric.mean_squared_error(y, baseline)\n",
    "    SSE = MSE*len(y)\n",
    "    RSME = sqrt(MSE)\n",
    "    \n",
    "    return SSE_baseline, MSE_baseline, RMSE_baseline"
   ]
  },
  {
   "cell_type": "code",
   "execution_count": 33,
   "id": "4d421b3b",
   "metadata": {},
   "outputs": [
    {
     "data": {
      "text/plain": [
       "(4.775842325705968e+16, 39606265607.1417, 199013.22972893462)"
      ]
     },
     "execution_count": 33,
     "metadata": {},
     "output_type": "execute_result"
    }
   ],
   "source": [
    "baseline_mean_errors(y_train)"
   ]
  },
  {
   "cell_type": "code",
   "execution_count": 34,
   "id": "6405ca62",
   "metadata": {},
   "outputs": [],
   "source": [
    "def better_than_baseline(y, yhat):\n",
    "    SSE, ESS, TSS, MSE, RMSE = regression_errors(y, yhat)\n",
    "    \n",
    "    SSE_baseline, MSE_baseline, RMSE_baseline = baseline_mean_errors(y)\n",
    "    \n",
    "    if SSE < SSE_baseline:\n",
    "        return True\n",
    "    "
   ]
  },
  {
   "cell_type": "code",
   "execution_count": 35,
   "id": "e28c0e22",
   "metadata": {},
   "outputs": [
    {
     "data": {
      "text/plain": [
       "True"
      ]
     },
     "execution_count": 35,
     "metadata": {},
     "output_type": "execute_result"
    }
   ],
   "source": [
    "better_than_baseline(train.tax_value, train.yhat)"
   ]
  },
  {
   "cell_type": "code",
   "execution_count": null,
   "id": "a2abbf9f",
   "metadata": {},
   "outputs": [],
   "source": []
  }
 ],
 "metadata": {
  "kernelspec": {
   "display_name": "Python 3 (ipykernel)",
   "language": "python",
   "name": "python3"
  },
  "language_info": {
   "codemirror_mode": {
    "name": "ipython",
    "version": 3
   },
   "file_extension": ".py",
   "mimetype": "text/x-python",
   "name": "python",
   "nbconvert_exporter": "python",
   "pygments_lexer": "ipython3",
   "version": "3.9.12"
  }
 },
 "nbformat": 4,
 "nbformat_minor": 5
}
