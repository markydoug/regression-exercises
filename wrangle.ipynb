{
 "cells": [
  {
   "cell_type": "markdown",
   "id": "59602f16",
   "metadata": {},
   "source": [
    "# Exercises I\n",
    "Let's review the steps we take at the beginning of each new module.\n",
    "\n",
    "1. Create a new repository named ```regression-exercises``` in your GitHub; all of your Regression work will be housed here.\n",
    "1. Clone this repository within your local ```codeup-data-science``` directory.\n",
    "1. Create a .gitignore and make sure your list of 'files to ignore' includes your ```env.py``` file.\n",
    "1. Create a ```README.md``` file that outlines the contents and purpose of your repository.\n",
    "1. Add, commit, and push these two files.\n",
    "1. Now you can add your env.py file to this repository to access the Codeup database server.\n",
    "1. For these exercises, you will create ```wrangle.ipynb``` and ```wrangle.py``` files to hold necessary functions.\n",
    "1. As always, add, commit, and push your work often.\n"
   ]
  },
  {
   "cell_type": "markdown",
   "id": "e659bd45",
   "metadata": {},
   "source": [
    "# Exercises II"
   ]
  },
  {
   "cell_type": "markdown",
   "id": "b42d316d",
   "metadata": {},
   "source": [
    "Let's set up an example scenario as perspective for our regression exercises using the Zillow dataset.\n",
    "\n",
    "As a Codeup data science graduate, you want to show off your skills to the Zillow data science team in hopes of getting an interview for a position you saw pop up on LinkedIn. You thought it might look impressive to build an end-to-end project in which you use some of their Kaggle data to predict property values using some of their available features; who knows, you might even do some feature engineering to blow them away. Your goal is to predict the values of single unit properties using the obervations from 2017.\n",
    "\n",
    "In these exercises, you will complete the first step toward the above goal: acquire and prepare the necessary Zillow data from the zillow database in the Codeup database server."
   ]
  },
  {
   "cell_type": "code",
   "execution_count": 1,
   "id": "36279110",
   "metadata": {},
   "outputs": [],
   "source": [
    "import pandas as pd\n",
    "import numpy as np\n",
    "\n",
    "import matplotlib.pyplot as plt\n",
    "import seaborn as sns\n",
    "\n",
    "import os\n",
    "\n",
    "import warnings\n",
    "warnings.filterwarnings(\"ignore\")\n",
    "\n",
    "import wrangle as w"
   ]
  },
  {
   "cell_type": "markdown",
   "id": "863813bd",
   "metadata": {},
   "source": [
    "### 1. Acquire ```bedroomcnt```, ```bathroomcnt```, ```calculatedfinishedsquarefeet```, ```taxvaluedollarcnt```, ```yearbuilt```, ```taxamount```, and ```fips``` from the ```zillow``` database for all 'Single Family Residential' properties.\n"
   ]
  },
  {
   "cell_type": "code",
   "execution_count": 2,
   "id": "ed037903",
   "metadata": {},
   "outputs": [],
   "source": [
    "def new_zillow_data():\n",
    "    '''\n",
    "    This reads the zillow 2017 properties data from the Codeup db into a df.\n",
    "    '''\n",
    "    # Create SQL query.\n",
    "    sql_query = '''\n",
    "                SELECT bedroomcnt, bathroomcnt, calculatedfinishedsquarefeet, taxvaluedollarcnt, yearbuilt, taxamount, fips\n",
    "                FROM properties_2017\n",
    "                WHERE propertylandusetypeid IN (\"261\", \"279\");\n",
    "                '''\n",
    "    \n",
    "    # Read in DataFrame from Codeup db.\n",
    "    df = pd.read_sql(sql_query, w.get_db_url(db = 'zillow'))\n",
    "    \n",
    "    return df"
   ]
  },
  {
   "cell_type": "code",
   "execution_count": 3,
   "id": "bacb217d",
   "metadata": {},
   "outputs": [],
   "source": [
    "def aquire_zillow_data(new = False):\n",
    "    ''' \n",
    "    Aquires data for 2017 properties\n",
    "    '''\n",
    "    \n",
    "    filename = 'zillow.csv'\n",
    "    \n",
    "    #if we don't have cached data or we want to get new data go get it from server\n",
    "    if (os.path.isfile(filename) == False) or (new == True):\n",
    "        df = new_zillow_data()\n",
    "        #save as csv\n",
    "        df.to_csv(filename,index=False)\n",
    "\n",
    "    #else used cached data\n",
    "    else:\n",
    "        df = pd.read_csv(filename)\n",
    "          \n",
    "    return df"
   ]
  },
  {
   "cell_type": "code",
   "execution_count": 4,
   "id": "444a9a30",
   "metadata": {},
   "outputs": [],
   "source": [
    "#acquire data\n",
    "zillow = w.aquire_zillow_data()"
   ]
  },
  {
   "cell_type": "code",
   "execution_count": 5,
   "id": "f96f1bc1",
   "metadata": {},
   "outputs": [
    {
     "data": {
      "text/plain": [
       "(2152863, 7)"
      ]
     },
     "execution_count": 5,
     "metadata": {},
     "output_type": "execute_result"
    }
   ],
   "source": [
    "zillow.shape"
   ]
  },
  {
   "cell_type": "markdown",
   "id": "facb04d2",
   "metadata": {},
   "source": [
    "### 2. Using your acquired Zillow data, walk through the summarization and cleaning steps in your ```wrangle.ipynb``` file like we did above. You may handle the missing values however you feel is appropriate and meaningful; remember to document your process and decisions using markdown and code commenting where helpful."
   ]
  },
  {
   "cell_type": "markdown",
   "id": "26417e9c",
   "metadata": {},
   "source": [
    "## Examine data frame"
   ]
  },
  {
   "cell_type": "code",
   "execution_count": 6,
   "id": "b511bcac",
   "metadata": {
    "scrolled": true
   },
   "outputs": [
    {
     "data": {
      "text/html": [
       "<div>\n",
       "<style scoped>\n",
       "    .dataframe tbody tr th:only-of-type {\n",
       "        vertical-align: middle;\n",
       "    }\n",
       "\n",
       "    .dataframe tbody tr th {\n",
       "        vertical-align: top;\n",
       "    }\n",
       "\n",
       "    .dataframe thead th {\n",
       "        text-align: right;\n",
       "    }\n",
       "</style>\n",
       "<table border=\"1\" class=\"dataframe\">\n",
       "  <thead>\n",
       "    <tr style=\"text-align: right;\">\n",
       "      <th></th>\n",
       "      <th>bedroomcnt</th>\n",
       "      <th>bathroomcnt</th>\n",
       "      <th>calculatedfinishedsquarefeet</th>\n",
       "      <th>taxvaluedollarcnt</th>\n",
       "      <th>yearbuilt</th>\n",
       "      <th>taxamount</th>\n",
       "      <th>fips</th>\n",
       "    </tr>\n",
       "  </thead>\n",
       "  <tbody>\n",
       "    <tr>\n",
       "      <th>0</th>\n",
       "      <td>0.0</td>\n",
       "      <td>0.0</td>\n",
       "      <td>NaN</td>\n",
       "      <td>27516.0</td>\n",
       "      <td>NaN</td>\n",
       "      <td>NaN</td>\n",
       "      <td>6037.0</td>\n",
       "    </tr>\n",
       "    <tr>\n",
       "      <th>1</th>\n",
       "      <td>0.0</td>\n",
       "      <td>0.0</td>\n",
       "      <td>NaN</td>\n",
       "      <td>10.0</td>\n",
       "      <td>NaN</td>\n",
       "      <td>NaN</td>\n",
       "      <td>6037.0</td>\n",
       "    </tr>\n",
       "    <tr>\n",
       "      <th>2</th>\n",
       "      <td>0.0</td>\n",
       "      <td>0.0</td>\n",
       "      <td>NaN</td>\n",
       "      <td>10.0</td>\n",
       "      <td>NaN</td>\n",
       "      <td>NaN</td>\n",
       "      <td>6037.0</td>\n",
       "    </tr>\n",
       "    <tr>\n",
       "      <th>3</th>\n",
       "      <td>0.0</td>\n",
       "      <td>0.0</td>\n",
       "      <td>NaN</td>\n",
       "      <td>2108.0</td>\n",
       "      <td>NaN</td>\n",
       "      <td>174.21</td>\n",
       "      <td>6037.0</td>\n",
       "    </tr>\n",
       "    <tr>\n",
       "      <th>4</th>\n",
       "      <td>4.0</td>\n",
       "      <td>2.0</td>\n",
       "      <td>3633.0</td>\n",
       "      <td>296425.0</td>\n",
       "      <td>2005.0</td>\n",
       "      <td>6941.39</td>\n",
       "      <td>6037.0</td>\n",
       "    </tr>\n",
       "  </tbody>\n",
       "</table>\n",
       "</div>"
      ],
      "text/plain": [
       "   bedroomcnt  bathroomcnt  calculatedfinishedsquarefeet  taxvaluedollarcnt  \\\n",
       "0         0.0          0.0                           NaN            27516.0   \n",
       "1         0.0          0.0                           NaN               10.0   \n",
       "2         0.0          0.0                           NaN               10.0   \n",
       "3         0.0          0.0                           NaN             2108.0   \n",
       "4         4.0          2.0                        3633.0           296425.0   \n",
       "\n",
       "   yearbuilt  taxamount    fips  \n",
       "0        NaN        NaN  6037.0  \n",
       "1        NaN        NaN  6037.0  \n",
       "2        NaN        NaN  6037.0  \n",
       "3        NaN     174.21  6037.0  \n",
       "4     2005.0    6941.39  6037.0  "
      ]
     },
     "execution_count": 6,
     "metadata": {},
     "output_type": "execute_result"
    }
   ],
   "source": [
    "zillow.head()"
   ]
  },
  {
   "cell_type": "code",
   "execution_count": 7,
   "id": "34d92b8a",
   "metadata": {},
   "outputs": [
    {
     "name": "stdout",
     "output_type": "stream",
     "text": [
      "<class 'pandas.core.frame.DataFrame'>\n",
      "RangeIndex: 2152863 entries, 0 to 2152862\n",
      "Data columns (total 7 columns):\n",
      " #   Column                        Non-Null Count    Dtype  \n",
      "---  ------                        --------------    -----  \n",
      " 0   bedroomcnt                    2152852 non-null  float64\n",
      " 1   bathroomcnt                   2152852 non-null  float64\n",
      " 2   calculatedfinishedsquarefeet  2144379 non-null  float64\n",
      " 3   taxvaluedollarcnt             2152370 non-null  float64\n",
      " 4   yearbuilt                     2143526 non-null  float64\n",
      " 5   taxamount                     2148421 non-null  float64\n",
      " 6   fips                          2152863 non-null  float64\n",
      "dtypes: float64(7)\n",
      "memory usage: 115.0 MB\n"
     ]
    }
   ],
   "source": [
    "zillow.info(show_counts =True)"
   ]
  },
  {
   "cell_type": "code",
   "execution_count": 8,
   "id": "5e1650a5",
   "metadata": {},
   "outputs": [],
   "source": [
    "#make column names more human readable\n",
    "zillow = zillow.rename(columns = {'bedroomcnt':'bedrooms', \n",
    "                          'bathroomcnt':'bathrooms', \n",
    "                          'calculatedfinishedsquarefeet':'square_feet',\n",
    "                          'taxvaluedollarcnt':'tax_value', \n",
    "                          'yearbuilt':'year_built'})"
   ]
  },
  {
   "cell_type": "code",
   "execution_count": 9,
   "id": "1d2cd2ad",
   "metadata": {
    "scrolled": false
   },
   "outputs": [
    {
     "data": {
      "text/html": [
       "<div>\n",
       "<style scoped>\n",
       "    .dataframe tbody tr th:only-of-type {\n",
       "        vertical-align: middle;\n",
       "    }\n",
       "\n",
       "    .dataframe tbody tr th {\n",
       "        vertical-align: top;\n",
       "    }\n",
       "\n",
       "    .dataframe thead th {\n",
       "        text-align: right;\n",
       "    }\n",
       "</style>\n",
       "<table border=\"1\" class=\"dataframe\">\n",
       "  <thead>\n",
       "    <tr style=\"text-align: right;\">\n",
       "      <th></th>\n",
       "      <th>count</th>\n",
       "      <th>mean</th>\n",
       "      <th>std</th>\n",
       "      <th>min</th>\n",
       "      <th>25%</th>\n",
       "      <th>50%</th>\n",
       "      <th>75%</th>\n",
       "      <th>max</th>\n",
       "    </tr>\n",
       "  </thead>\n",
       "  <tbody>\n",
       "    <tr>\n",
       "      <th>bedrooms</th>\n",
       "      <td>2152852.0</td>\n",
       "      <td>3.287196</td>\n",
       "      <td>0.954754</td>\n",
       "      <td>0.00</td>\n",
       "      <td>3.00</td>\n",
       "      <td>3.00</td>\n",
       "      <td>4.00</td>\n",
       "      <td>25.00</td>\n",
       "    </tr>\n",
       "    <tr>\n",
       "      <th>bathrooms</th>\n",
       "      <td>2152852.0</td>\n",
       "      <td>2.230688</td>\n",
       "      <td>0.999280</td>\n",
       "      <td>0.00</td>\n",
       "      <td>2.00</td>\n",
       "      <td>2.00</td>\n",
       "      <td>3.00</td>\n",
       "      <td>32.00</td>\n",
       "    </tr>\n",
       "    <tr>\n",
       "      <th>square_feet</th>\n",
       "      <td>2144379.0</td>\n",
       "      <td>1862.855178</td>\n",
       "      <td>1222.125124</td>\n",
       "      <td>1.00</td>\n",
       "      <td>1257.00</td>\n",
       "      <td>1623.00</td>\n",
       "      <td>2208.00</td>\n",
       "      <td>952576.00</td>\n",
       "    </tr>\n",
       "    <tr>\n",
       "      <th>tax_value</th>\n",
       "      <td>2152370.0</td>\n",
       "      <td>461896.237963</td>\n",
       "      <td>699676.049600</td>\n",
       "      <td>1.00</td>\n",
       "      <td>188170.25</td>\n",
       "      <td>327671.00</td>\n",
       "      <td>534527.00</td>\n",
       "      <td>98428909.00</td>\n",
       "    </tr>\n",
       "    <tr>\n",
       "      <th>year_built</th>\n",
       "      <td>2143526.0</td>\n",
       "      <td>1960.949681</td>\n",
       "      <td>22.162196</td>\n",
       "      <td>1801.00</td>\n",
       "      <td>1949.00</td>\n",
       "      <td>1958.00</td>\n",
       "      <td>1976.00</td>\n",
       "      <td>2016.00</td>\n",
       "    </tr>\n",
       "    <tr>\n",
       "      <th>taxamount</th>\n",
       "      <td>2148421.0</td>\n",
       "      <td>5634.865978</td>\n",
       "      <td>8178.910249</td>\n",
       "      <td>1.85</td>\n",
       "      <td>2534.98</td>\n",
       "      <td>4108.95</td>\n",
       "      <td>6414.32</td>\n",
       "      <td>1337755.86</td>\n",
       "    </tr>\n",
       "    <tr>\n",
       "      <th>fips</th>\n",
       "      <td>2152863.0</td>\n",
       "      <td>6048.377335</td>\n",
       "      <td>20.433292</td>\n",
       "      <td>6037.00</td>\n",
       "      <td>6037.00</td>\n",
       "      <td>6037.00</td>\n",
       "      <td>6059.00</td>\n",
       "      <td>6111.00</td>\n",
       "    </tr>\n",
       "  </tbody>\n",
       "</table>\n",
       "</div>"
      ],
      "text/plain": [
       "                 count           mean            std      min        25%  \\\n",
       "bedrooms     2152852.0       3.287196       0.954754     0.00       3.00   \n",
       "bathrooms    2152852.0       2.230688       0.999280     0.00       2.00   \n",
       "square_feet  2144379.0    1862.855178    1222.125124     1.00    1257.00   \n",
       "tax_value    2152370.0  461896.237963  699676.049600     1.00  188170.25   \n",
       "year_built   2143526.0    1960.949681      22.162196  1801.00    1949.00   \n",
       "taxamount    2148421.0    5634.865978    8178.910249     1.85    2534.98   \n",
       "fips         2152863.0    6048.377335      20.433292  6037.00    6037.00   \n",
       "\n",
       "                   50%        75%          max  \n",
       "bedrooms          3.00       4.00        25.00  \n",
       "bathrooms         2.00       3.00        32.00  \n",
       "square_feet    1623.00    2208.00    952576.00  \n",
       "tax_value    327671.00  534527.00  98428909.00  \n",
       "year_built     1958.00    1976.00      2016.00  \n",
       "taxamount      4108.95    6414.32   1337755.86  \n",
       "fips           6037.00    6059.00      6111.00  "
      ]
     },
     "execution_count": 9,
     "metadata": {},
     "output_type": "execute_result"
    }
   ],
   "source": [
    "#statistical analysis of data\n",
    "zillow.describe().T"
   ]
  },
  {
   "cell_type": "code",
   "execution_count": 10,
   "id": "33c30cbf",
   "metadata": {
    "scrolled": true
   },
   "outputs": [
    {
     "data": {
      "text/plain": [
       "bedrooms         11\n",
       "bathrooms        11\n",
       "square_feet    8484\n",
       "tax_value       493\n",
       "year_built     9337\n",
       "taxamount      4442\n",
       "fips              0\n",
       "dtype: int64"
      ]
     },
     "execution_count": 10,
     "metadata": {},
     "output_type": "execute_result"
    }
   ],
   "source": [
    "#check for nulls in each column\n",
    "zillow.isnull().sum()"
   ]
  },
  {
   "cell_type": "markdown",
   "id": "d93ebc18",
   "metadata": {},
   "source": [
    "**Thoughts**\n",
    "- Need to figure out what to do with these NULLs\n",
    "- And check if fips is no NULLs or just white space"
   ]
  },
  {
   "cell_type": "code",
   "execution_count": 11,
   "id": "74a02f46",
   "metadata": {},
   "outputs": [
    {
     "data": {
      "text/plain": [
       "6111.0     165975\n",
       "6059.0     555077\n",
       "6037.0    1431811\n",
       "Name: fips, dtype: int64"
      ]
     },
     "execution_count": 11,
     "metadata": {},
     "output_type": "execute_result"
    }
   ],
   "source": [
    "#check to see what values exist in the fips column\n",
    "zillow.fips.value_counts(dropna=False, ascending=True)"
   ]
  },
  {
   "cell_type": "code",
   "execution_count": 12,
   "id": "c5515f10",
   "metadata": {},
   "outputs": [],
   "source": [
    "zillow_dropna = zillow.dropna()"
   ]
  },
  {
   "cell_type": "markdown",
   "id": "52e592ba",
   "metadata": {},
   "source": [
    "### Let's explore the data before we make any decisions"
   ]
  },
  {
   "cell_type": "code",
   "execution_count": 13,
   "id": "c3f2bca7",
   "metadata": {},
   "outputs": [
    {
     "data": {
      "image/png": "[encoded data removed]",
      "text/plain": [
       "<Figure size 1152x216 with 7 Axes>"
      ]
     },
     "metadata": {
      "needs_background": "light"
     },
     "output_type": "display_data"
    }
   ],
   "source": [
    "plt.figure(figsize=(16, 3))\n",
    "\n",
    "# List of columns\n",
    "cols = zillow.columns.to_list()\n",
    "\n",
    "for i, col in enumerate(cols):\n",
    "\n",
    "    # i starts at 0, but plot numbers should start at 1\n",
    "    plot_number = i + 1 \n",
    "\n",
    "    # Create subplot.\n",
    "    plt.subplot(1,9, plot_number)\n",
    "\n",
    "    # Title with column name.\n",
    "    plt.title(col)\n",
    "\n",
    "    # Display histogram for column.\n",
    "    zillow[col].hist(bins=5)\n",
    "\n",
    "    # Hide gridlines.\n",
    "    plt.grid(False)\n"
   ]
  },
  {
   "cell_type": "markdown",
   "id": "2282f178",
   "metadata": {},
   "source": [
    "All of the data seems skewed"
   ]
  },
  {
   "cell_type": "code",
   "execution_count": 14,
   "id": "d6df1bf1",
   "metadata": {},
   "outputs": [
    {
     "data": {
      "image/png": "[encoded data removed]",
      "text/plain": [
       "<Figure size 1152x1440 with 1 Axes>"
      ]
     },
     "metadata": {
      "needs_background": "light"
     },
     "output_type": "display_data"
    }
   ],
   "source": [
    "# Create boxplots for all the data\n",
    "plt.figure(figsize=(16, 20))\n",
    "sns.boxplot(data=zillow)\n",
    "plt.show()"
   ]
  },
  {
   "cell_type": "markdown",
   "id": "6eebeb2e",
   "metadata": {},
   "source": [
    "***DANG!*** There are some crazy outliers in ```tax_value```"
   ]
  },
  {
   "cell_type": "code",
   "execution_count": 15,
   "id": "ccce539e",
   "metadata": {
    "scrolled": true
   },
   "outputs": [
    {
     "data": {
      "text/html": [
       "<div>\n",
       "<style scoped>\n",
       "    .dataframe tbody tr th:only-of-type {\n",
       "        vertical-align: middle;\n",
       "    }\n",
       "\n",
       "    .dataframe tbody tr th {\n",
       "        vertical-align: top;\n",
       "    }\n",
       "\n",
       "    .dataframe thead th {\n",
       "        text-align: right;\n",
       "    }\n",
       "</style>\n",
       "<table border=\"1\" class=\"dataframe\">\n",
       "  <thead>\n",
       "    <tr style=\"text-align: right;\">\n",
       "      <th></th>\n",
       "      <th>count</th>\n",
       "      <th>mean</th>\n",
       "      <th>std</th>\n",
       "      <th>min</th>\n",
       "      <th>25%</th>\n",
       "      <th>50%</th>\n",
       "      <th>75%</th>\n",
       "      <th>max</th>\n",
       "    </tr>\n",
       "  </thead>\n",
       "  <tbody>\n",
       "    <tr>\n",
       "      <th>bedrooms</th>\n",
       "      <td>2152852.0</td>\n",
       "      <td>3.287196</td>\n",
       "      <td>0.954754</td>\n",
       "      <td>0.00</td>\n",
       "      <td>3.00</td>\n",
       "      <td>3.00</td>\n",
       "      <td>4.00</td>\n",
       "      <td>25.00</td>\n",
       "    </tr>\n",
       "    <tr>\n",
       "      <th>bathrooms</th>\n",
       "      <td>2152852.0</td>\n",
       "      <td>2.230688</td>\n",
       "      <td>0.999280</td>\n",
       "      <td>0.00</td>\n",
       "      <td>2.00</td>\n",
       "      <td>2.00</td>\n",
       "      <td>3.00</td>\n",
       "      <td>32.00</td>\n",
       "    </tr>\n",
       "    <tr>\n",
       "      <th>square_feet</th>\n",
       "      <td>2144379.0</td>\n",
       "      <td>1862.855178</td>\n",
       "      <td>1222.125124</td>\n",
       "      <td>1.00</td>\n",
       "      <td>1257.00</td>\n",
       "      <td>1623.00</td>\n",
       "      <td>2208.00</td>\n",
       "      <td>952576.00</td>\n",
       "    </tr>\n",
       "    <tr>\n",
       "      <th>tax_value</th>\n",
       "      <td>2152370.0</td>\n",
       "      <td>461896.237963</td>\n",
       "      <td>699676.049600</td>\n",
       "      <td>1.00</td>\n",
       "      <td>188170.25</td>\n",
       "      <td>327671.00</td>\n",
       "      <td>534527.00</td>\n",
       "      <td>98428909.00</td>\n",
       "    </tr>\n",
       "    <tr>\n",
       "      <th>year_built</th>\n",
       "      <td>2143526.0</td>\n",
       "      <td>1960.949681</td>\n",
       "      <td>22.162196</td>\n",
       "      <td>1801.00</td>\n",
       "      <td>1949.00</td>\n",
       "      <td>1958.00</td>\n",
       "      <td>1976.00</td>\n",
       "      <td>2016.00</td>\n",
       "    </tr>\n",
       "    <tr>\n",
       "      <th>taxamount</th>\n",
       "      <td>2148421.0</td>\n",
       "      <td>5634.865978</td>\n",
       "      <td>8178.910249</td>\n",
       "      <td>1.85</td>\n",
       "      <td>2534.98</td>\n",
       "      <td>4108.95</td>\n",
       "      <td>6414.32</td>\n",
       "      <td>1337755.86</td>\n",
       "    </tr>\n",
       "    <tr>\n",
       "      <th>fips</th>\n",
       "      <td>2152863.0</td>\n",
       "      <td>6048.377335</td>\n",
       "      <td>20.433292</td>\n",
       "      <td>6037.00</td>\n",
       "      <td>6037.00</td>\n",
       "      <td>6037.00</td>\n",
       "      <td>6059.00</td>\n",
       "      <td>6111.00</td>\n",
       "    </tr>\n",
       "  </tbody>\n",
       "</table>\n",
       "</div>"
      ],
      "text/plain": [
       "                 count           mean            std      min        25%  \\\n",
       "bedrooms     2152852.0       3.287196       0.954754     0.00       3.00   \n",
       "bathrooms    2152852.0       2.230688       0.999280     0.00       2.00   \n",
       "square_feet  2144379.0    1862.855178    1222.125124     1.00    1257.00   \n",
       "tax_value    2152370.0  461896.237963  699676.049600     1.00  188170.25   \n",
       "year_built   2143526.0    1960.949681      22.162196  1801.00    1949.00   \n",
       "taxamount    2148421.0    5634.865978    8178.910249     1.85    2534.98   \n",
       "fips         2152863.0    6048.377335      20.433292  6037.00    6037.00   \n",
       "\n",
       "                   50%        75%          max  \n",
       "bedrooms          3.00       4.00        25.00  \n",
       "bathrooms         2.00       3.00        32.00  \n",
       "square_feet    1623.00    2208.00    952576.00  \n",
       "tax_value    327671.00  534527.00  98428909.00  \n",
       "year_built     1958.00    1976.00      2016.00  \n",
       "taxamount      4108.95    6414.32   1337755.86  \n",
       "fips           6037.00    6059.00      6111.00  "
      ]
     },
     "execution_count": 15,
     "metadata": {},
     "output_type": "execute_result"
    }
   ],
   "source": [
    "# Look at the statistics again\n",
    "zillow.describe().T"
   ]
  },
  {
   "cell_type": "markdown",
   "id": "bbf1e4b4",
   "metadata": {},
   "source": [
    "**Thoughts**\n",
    "- obvious outliers in ```tax_value``` and ```taxamount```\n",
    "- also looks like ```bedrooms``` and ```bathrooms``` has a few outliers as well 25 bedrooms??? 32 bathrooms???\n",
    "- maybe a few outliers in ```square_feet```\n",
    "- What should we do?!?!?"
   ]
  },
  {
   "cell_type": "markdown",
   "id": "07109cd0",
   "metadata": {},
   "source": [
    "## Let's remove some outliers!"
   ]
  },
  {
   "cell_type": "markdown",
   "id": "b6ad3473",
   "metadata": {},
   "source": [
    "After some googling I saw a way to remove outliers with a cool function. (See below)"
   ]
  },
  {
   "cell_type": "code",
   "execution_count": 16,
   "id": "ad41729d",
   "metadata": {},
   "outputs": [],
   "source": [
    "def remove_outliers(df, col_list):\n",
    "    ''' remove outliers from a list of columns in a dataframe \n",
    "        and return that dataframe\n",
    "    '''\n",
    "    \n",
    "    for col in col_list:\n",
    "\n",
    "        q1 = df[col].quantile(0.25)\n",
    "        q3 = df[col].quantile(0.75)  # get quartiles\n",
    "        \n",
    "        iqr = q3 - q1   # calculate interquartile range\n",
    "        \n",
    "        upper_bound = q3 + 1.5 * iqr   # get upper bound\n",
    "        lower_bound = q1 - 1.5 * iqr   # get lower bound\n",
    "\n",
    "        # return dataframe without outliers\n",
    "        \n",
    "        df = df[(df[col] > lower_bound) & (df[col] < upper_bound)]\n",
    "        \n",
    "    return df"
   ]
  },
  {
   "cell_type": "code",
   "execution_count": 17,
   "id": "304d8e8d",
   "metadata": {},
   "outputs": [],
   "source": [
    "remove = remove_outliers(zillow, ['tax_value', 'taxamount', 'bedrooms', \n",
    "                                       'bathrooms', 'square_feet'])"
   ]
  },
  {
   "cell_type": "markdown",
   "id": "ebd1bfb0",
   "metadata": {},
   "source": [
    "**After running this and compared my numbers with Cristina I realized the order or the features matters**\n",
    "- It will remove fewer if you start with those columns that have fewer outliers."
   ]
  },
  {
   "cell_type": "code",
   "execution_count": 18,
   "id": "dff3a709",
   "metadata": {},
   "outputs": [],
   "source": [
    "remove1 = remove_outliers(zillow, ['bedrooms','bathrooms','square_feet', \n",
    "                                   'tax_value', 'taxamount'])"
   ]
  },
  {
   "cell_type": "code",
   "execution_count": 19,
   "id": "02d41a78",
   "metadata": {},
   "outputs": [
    {
     "data": {
      "text/plain": [
       "((2152863, 7), (2140235, 7), (1423123, 7), (1855285, 7))"
      ]
     },
     "execution_count": 19,
     "metadata": {},
     "output_type": "execute_result"
    }
   ],
   "source": [
    "zillow.shape, zillow_dropna.shape, remove.shape, remove1.shape"
   ]
  },
  {
   "cell_type": "markdown",
   "id": "bd8b215c",
   "metadata": {},
   "source": [
    "```zillow_dropna``` has the fewest removed rows, but we might need to remove those outliers to help the future model.\n",
    "\n",
    "Let's look at the what columns still have nulls after removing outliers ('bedrooms','bathrooms','square_feet', 'tax_value', 'taxamount') ```remove1```"
   ]
  },
  {
   "cell_type": "code",
   "execution_count": 20,
   "id": "246ea50e",
   "metadata": {
    "scrolled": true
   },
   "outputs": [
    {
     "data": {
      "text/plain": [
       "bedrooms         0\n",
       "bathrooms        0\n",
       "square_feet      0\n",
       "tax_value        0\n",
       "year_built     874\n",
       "taxamount        0\n",
       "fips             0\n",
       "dtype: int64"
      ]
     },
     "execution_count": 20,
     "metadata": {},
     "output_type": "execute_result"
    }
   ],
   "source": [
    "#check for nulls in each column\n",
    "remove1.isnull().sum()"
   ]
  },
  {
   "cell_type": "markdown",
   "id": "7e9884d2",
   "metadata": {},
   "source": [
    "Still have some NULLs.... Should I impute or drop?"
   ]
  },
  {
   "cell_type": "code",
   "execution_count": 21,
   "id": "3cc3a52c",
   "metadata": {},
   "outputs": [
    {
     "data": {
      "text/plain": [
       "1955.0    80451\n",
       "1950.0    66876\n",
       "1954.0    65523\n",
       "1953.0    58746\n",
       "1956.0    58054\n",
       "          ...  \n",
       "1823.0        1\n",
       "1801.0        1\n",
       "1807.0        1\n",
       "1877.0        1\n",
       "1874.0        1\n",
       "Name: year_built, Length: 152, dtype: int64"
      ]
     },
     "execution_count": 21,
     "metadata": {},
     "output_type": "execute_result"
    }
   ],
   "source": [
    "remove1.year_built.value_counts()"
   ]
  },
  {
   "cell_type": "markdown",
   "id": "51154426",
   "metadata": {},
   "source": [
    "**No obvious year that stands out as a very common year. I will just drop them.**"
   ]
  },
  {
   "cell_type": "code",
   "execution_count": 22,
   "id": "e8616d5a",
   "metadata": {},
   "outputs": [],
   "source": [
    "remove1 = remove1.dropna()"
   ]
  },
  {
   "cell_type": "code",
   "execution_count": 23,
   "id": "eb8e8f0f",
   "metadata": {
    "scrolled": true
   },
   "outputs": [
    {
     "name": "stdout",
     "output_type": "stream",
     "text": [
      "<class 'pandas.core.frame.DataFrame'>\n",
      "Int64Index: 1854411 entries, 6 to 2152862\n",
      "Data columns (total 7 columns):\n",
      " #   Column       Non-Null Count    Dtype  \n",
      "---  ------       --------------    -----  \n",
      " 0   bedrooms     1854411 non-null  float64\n",
      " 1   bathrooms    1854411 non-null  float64\n",
      " 2   square_feet  1854411 non-null  float64\n",
      " 3   tax_value    1854411 non-null  float64\n",
      " 4   year_built   1854411 non-null  float64\n",
      " 5   taxamount    1854411 non-null  float64\n",
      " 6   fips         1854411 non-null  float64\n",
      "dtypes: float64(7)\n",
      "memory usage: 113.2 MB\n"
     ]
    }
   ],
   "source": [
    "remove1.info(show_counts=True)"
   ]
  },
  {
   "cell_type": "markdown",
   "id": "7c812b9a",
   "metadata": {},
   "source": [
    "**All NULLs removed**\n",
    "\n",
    "Let's plot the data to see what it looks like now."
   ]
  },
  {
   "cell_type": "code",
   "execution_count": 24,
   "id": "0ab94c00",
   "metadata": {},
   "outputs": [
    {
     "data": {
      "image/png": "[encoded data removed]",
      "text/plain": [
       "<Figure size 1440x216 with 7 Axes>"
      ]
     },
     "metadata": {
      "needs_background": "light"
     },
     "output_type": "display_data"
    }
   ],
   "source": [
    "plt.figure(figsize=(20, 3))\n",
    "\n",
    "# List of columns\n",
    "cols = remove1.columns.to_list()\n",
    "\n",
    "for i, col in enumerate(cols):\n",
    "\n",
    "    # i starts at 0, but plot numbers should start at 1\n",
    "    plot_number = i + 1 \n",
    "\n",
    "    # Create subplot.\n",
    "    plt.subplot(1,9, plot_number)\n",
    "\n",
    "    # Title with column name.\n",
    "    plt.title(col)\n",
    "\n",
    "    # Display histogram for column.\n",
    "    remove1[col].hist(bins=5)\n",
    "\n",
    "    # Hide gridlines.\n",
    "    plt.grid(False)"
   ]
  },
  {
   "cell_type": "code",
   "execution_count": 25,
   "id": "82f302da",
   "metadata": {},
   "outputs": [
    {
     "data": {
      "image/png": "[encoded data removed]",
      "text/plain": [
       "<Figure size 1440x216 with 7 Axes>"
      ]
     },
     "metadata": {
      "needs_background": "light"
     },
     "output_type": "display_data"
    }
   ],
   "source": [
    "plt.figure(figsize=(20, 3))\n",
    "\n",
    "# List of columns\n",
    "cols = remove1.columns.to_list()\n",
    "\n",
    "for i, col in enumerate(cols):\n",
    "\n",
    "    # i starts at 0, but plot numbers should start at 1\n",
    "    plot_number = i + 1 \n",
    "\n",
    "    # Create subplot.\n",
    "    plt.subplot(1,9, plot_number)\n",
    "\n",
    "    # Title with column name.\n",
    "    plt.title(col)\n",
    "\n",
    "    # Display histogram for column.\n",
    "    sns.boxplot(data=remove1, y=col)\n",
    "\n",
    "    # Hide gridlines.\n",
    "    plt.grid(False)\n"
   ]
  },
  {
   "cell_type": "markdown",
   "id": "62a853b0",
   "metadata": {},
   "source": [
    "## Make function to acquire and wrangle the data"
   ]
  },
  {
   "cell_type": "code",
   "execution_count": 26,
   "id": "ae9f5de3",
   "metadata": {},
   "outputs": [],
   "source": [
    "def wrangle_zillow_outliers(new = False):\n",
    "    ''' \n",
    "    Checks to see if there is a local copy of the data, \n",
    "    if not or if new = True then go get data from Codeup database\n",
    "    Then prepares the data by making feature names human readable\n",
    "    and drop the nulls.\n",
    "    '''\n",
    "    \n",
    "    if new == True:\n",
    "        df = aquire_zillow_data(new == True)\n",
    "    else:\n",
    "        df = aquire_zillow_data()\n",
    "        \n",
    "    #make column names more human readable\n",
    "    df = df.rename(columns = {'bedroomcnt':'bedrooms', \n",
    "                          'bathroomcnt':'bathrooms', \n",
    "                          'calculatedfinishedsquarefeet':'square_feet',\n",
    "                          'taxvaluedollarcnt':'tax_value', \n",
    "                          'yearbuilt':'year_built'})\n",
    "    \n",
    "    df = remove_outliers(df, ['bedrooms','bathrooms','square_feet', \n",
    "                                   'tax_value', 'taxamount'])\n",
    "    \n",
    "    df = df.dropna()\n",
    "    \n",
    "    return df"
   ]
  },
  {
   "cell_type": "code",
   "execution_count": 27,
   "id": "cea445ef",
   "metadata": {},
   "outputs": [],
   "source": [
    "z = wrangle_zillow()"
   ]
  },
  {
   "cell_type": "code",
   "execution_count": 28,
   "id": "a4df1c69",
   "metadata": {},
   "outputs": [
    {
     "data": {
      "text/html": [
       "<div>\n",
       "<style scoped>\n",
       "    .dataframe tbody tr th:only-of-type {\n",
       "        vertical-align: middle;\n",
       "    }\n",
       "\n",
       "    .dataframe tbody tr th {\n",
       "        vertical-align: top;\n",
       "    }\n",
       "\n",
       "    .dataframe thead th {\n",
       "        text-align: right;\n",
       "    }\n",
       "</style>\n",
       "<table border=\"1\" class=\"dataframe\">\n",
       "  <thead>\n",
       "    <tr style=\"text-align: right;\">\n",
       "      <th></th>\n",
       "      <th>bedrooms</th>\n",
       "      <th>bathrooms</th>\n",
       "      <th>square_feet</th>\n",
       "      <th>tax_value</th>\n",
       "      <th>year_built</th>\n",
       "      <th>taxamount</th>\n",
       "      <th>fips</th>\n",
       "    </tr>\n",
       "  </thead>\n",
       "  <tbody>\n",
       "    <tr>\n",
       "      <th>6</th>\n",
       "      <td>3.0</td>\n",
       "      <td>4.0</td>\n",
       "      <td>1620.0</td>\n",
       "      <td>847770.0</td>\n",
       "      <td>2011.0</td>\n",
       "      <td>10244.94</td>\n",
       "      <td>6037.0</td>\n",
       "    </tr>\n",
       "    <tr>\n",
       "      <th>7</th>\n",
       "      <td>3.0</td>\n",
       "      <td>2.0</td>\n",
       "      <td>2077.0</td>\n",
       "      <td>646760.0</td>\n",
       "      <td>1926.0</td>\n",
       "      <td>7924.68</td>\n",
       "      <td>6037.0</td>\n",
       "    </tr>\n",
       "    <tr>\n",
       "      <th>18</th>\n",
       "      <td>3.0</td>\n",
       "      <td>1.0</td>\n",
       "      <td>1244.0</td>\n",
       "      <td>169471.0</td>\n",
       "      <td>1950.0</td>\n",
       "      <td>2532.88</td>\n",
       "      <td>6037.0</td>\n",
       "    </tr>\n",
       "    <tr>\n",
       "      <th>19</th>\n",
       "      <td>3.0</td>\n",
       "      <td>2.0</td>\n",
       "      <td>1300.0</td>\n",
       "      <td>233266.0</td>\n",
       "      <td>1950.0</td>\n",
       "      <td>3110.99</td>\n",
       "      <td>6037.0</td>\n",
       "    </tr>\n",
       "    <tr>\n",
       "      <th>20</th>\n",
       "      <td>3.0</td>\n",
       "      <td>2.0</td>\n",
       "      <td>1222.0</td>\n",
       "      <td>290492.0</td>\n",
       "      <td>1951.0</td>\n",
       "      <td>3870.25</td>\n",
       "      <td>6037.0</td>\n",
       "    </tr>\n",
       "  </tbody>\n",
       "</table>\n",
       "</div>"
      ],
      "text/plain": [
       "    bedrooms  bathrooms  square_feet  tax_value  year_built  taxamount    fips\n",
       "6        3.0        4.0       1620.0   847770.0      2011.0   10244.94  6037.0\n",
       "7        3.0        2.0       2077.0   646760.0      1926.0    7924.68  6037.0\n",
       "18       3.0        1.0       1244.0   169471.0      1950.0    2532.88  6037.0\n",
       "19       3.0        2.0       1300.0   233266.0      1950.0    3110.99  6037.0\n",
       "20       3.0        2.0       1222.0   290492.0      1951.0    3870.25  6037.0"
      ]
     },
     "execution_count": 28,
     "metadata": {},
     "output_type": "execute_result"
    }
   ],
   "source": [
    "z.head()"
   ]
  },
  {
   "cell_type": "code",
   "execution_count": 29,
   "id": "74e54939",
   "metadata": {},
   "outputs": [
    {
     "data": {
      "text/plain": [
       "(1854411, 7)"
      ]
     },
     "execution_count": 29,
     "metadata": {},
     "output_type": "execute_result"
    }
   ],
   "source": [
    "z.shape"
   ]
  },
  {
   "cell_type": "markdown",
   "id": "1460b42d",
   "metadata": {},
   "source": [
    "### Let's check to see if the function from my wrangle.py file works."
   ]
  },
  {
   "cell_type": "code",
   "execution_count": 2,
   "id": "42442af2",
   "metadata": {},
   "outputs": [],
   "source": [
    "new_zillow = w.wrangle_zillow()"
   ]
  },
  {
   "cell_type": "code",
   "execution_count": 3,
   "id": "6f7efaf7",
   "metadata": {},
   "outputs": [
    {
     "data": {
      "text/html": [
       "<div>\n",
       "<style scoped>\n",
       "    .dataframe tbody tr th:only-of-type {\n",
       "        vertical-align: middle;\n",
       "    }\n",
       "\n",
       "    .dataframe tbody tr th {\n",
       "        vertical-align: top;\n",
       "    }\n",
       "\n",
       "    .dataframe thead th {\n",
       "        text-align: right;\n",
       "    }\n",
       "</style>\n",
       "<table border=\"1\" class=\"dataframe\">\n",
       "  <thead>\n",
       "    <tr style=\"text-align: right;\">\n",
       "      <th></th>\n",
       "      <th>bedrooms</th>\n",
       "      <th>bathrooms</th>\n",
       "      <th>square_feet</th>\n",
       "      <th>tax_value</th>\n",
       "      <th>year_built</th>\n",
       "      <th>taxamount</th>\n",
       "      <th>fips</th>\n",
       "    </tr>\n",
       "  </thead>\n",
       "  <tbody>\n",
       "    <tr>\n",
       "      <th>4</th>\n",
       "      <td>4.0</td>\n",
       "      <td>2.0</td>\n",
       "      <td>3633.0</td>\n",
       "      <td>296425.0</td>\n",
       "      <td>2005.0</td>\n",
       "      <td>6941.39</td>\n",
       "      <td>6037.0</td>\n",
       "    </tr>\n",
       "    <tr>\n",
       "      <th>6</th>\n",
       "      <td>3.0</td>\n",
       "      <td>4.0</td>\n",
       "      <td>1620.0</td>\n",
       "      <td>847770.0</td>\n",
       "      <td>2011.0</td>\n",
       "      <td>10244.94</td>\n",
       "      <td>6037.0</td>\n",
       "    </tr>\n",
       "    <tr>\n",
       "      <th>7</th>\n",
       "      <td>3.0</td>\n",
       "      <td>2.0</td>\n",
       "      <td>2077.0</td>\n",
       "      <td>646760.0</td>\n",
       "      <td>1926.0</td>\n",
       "      <td>7924.68</td>\n",
       "      <td>6037.0</td>\n",
       "    </tr>\n",
       "    <tr>\n",
       "      <th>11</th>\n",
       "      <td>0.0</td>\n",
       "      <td>0.0</td>\n",
       "      <td>1200.0</td>\n",
       "      <td>5328.0</td>\n",
       "      <td>1972.0</td>\n",
       "      <td>91.60</td>\n",
       "      <td>6037.0</td>\n",
       "    </tr>\n",
       "    <tr>\n",
       "      <th>14</th>\n",
       "      <td>0.0</td>\n",
       "      <td>0.0</td>\n",
       "      <td>171.0</td>\n",
       "      <td>6920.0</td>\n",
       "      <td>1973.0</td>\n",
       "      <td>255.17</td>\n",
       "      <td>6037.0</td>\n",
       "    </tr>\n",
       "  </tbody>\n",
       "</table>\n",
       "</div>"
      ],
      "text/plain": [
       "    bedrooms  bathrooms  square_feet  tax_value  year_built  taxamount    fips\n",
       "4        4.0        2.0       3633.0   296425.0      2005.0    6941.39  6037.0\n",
       "6        3.0        4.0       1620.0   847770.0      2011.0   10244.94  6037.0\n",
       "7        3.0        2.0       2077.0   646760.0      1926.0    7924.68  6037.0\n",
       "11       0.0        0.0       1200.0     5328.0      1972.0      91.60  6037.0\n",
       "14       0.0        0.0        171.0     6920.0      1973.0     255.17  6037.0"
      ]
     },
     "execution_count": 3,
     "metadata": {},
     "output_type": "execute_result"
    }
   ],
   "source": [
    "new_zillow.head()"
   ]
  },
  {
   "cell_type": "code",
   "execution_count": 4,
   "id": "8c30a2ca",
   "metadata": {},
   "outputs": [
    {
     "name": "stdout",
     "output_type": "stream",
     "text": [
      "<class 'pandas.core.frame.DataFrame'>\n",
      "Int64Index: 2140235 entries, 4 to 2152862\n",
      "Data columns (total 7 columns):\n",
      " #   Column       Non-Null Count    Dtype  \n",
      "---  ------       --------------    -----  \n",
      " 0   bedrooms     2140235 non-null  float64\n",
      " 1   bathrooms    2140235 non-null  float64\n",
      " 2   square_feet  2140235 non-null  float64\n",
      " 3   tax_value    2140235 non-null  float64\n",
      " 4   year_built   2140235 non-null  float64\n",
      " 5   taxamount    2140235 non-null  float64\n",
      " 6   fips         2140235 non-null  float64\n",
      "dtypes: float64(7)\n",
      "memory usage: 130.6 MB\n"
     ]
    }
   ],
   "source": [
    "new_zillow.info(show_counts=True)"
   ]
  },
  {
   "cell_type": "code",
   "execution_count": null,
   "id": "92c53359",
   "metadata": {},
   "outputs": [],
   "source": []
  }
 ],
 "metadata": {
  "kernelspec": {
   "display_name": "Python 3 (ipykernel)",
   "language": "python",
   "name": "python3"
  },
  "language_info": {
   "codemirror_mode": {
    "name": "ipython",
    "version": 3
   },
   "file_extension": ".py",
   "mimetype": "text/x-python",
   "name": "python",
   "nbconvert_exporter": "python",
   "pygments_lexer": "ipython3",
   "version": "3.9.12"
  }
 },
 "nbformat": 4,
 "nbformat_minor": 5
}
