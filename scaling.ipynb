{
 "cells": [
  {
   "cell_type": "code",
   "execution_count": 1,
   "id": "1f72e4f0",
   "metadata": {},
   "outputs": [],
   "source": [
    "import pandas as pd\n",
    "import numpy as np\n",
    "\n",
    "import matplotlib.pyplot as plt\n",
    "import seaborn as sns\n",
    "\n",
    "from scipy import stats\n",
    "import sklearn.preprocessing as pre\n",
    "from sklearn.model_selection import train_test_split\n",
    "\n",
    "import warnings\n",
    "warnings.filterwarnings(\"ignore\")\n",
    "\n",
    "import wrangle as w"
   ]
  },
  {
   "cell_type": "code",
   "execution_count": 2,
   "id": "314a93f1",
   "metadata": {},
   "outputs": [],
   "source": [
    "zillow = w.wrangle_zillow(remove=False)"
   ]
  },
  {
   "cell_type": "code",
   "execution_count": 3,
   "id": "0b222462",
   "metadata": {},
   "outputs": [
    {
     "data": {
      "text/html": [
       "<div>\n",
       "<style scoped>\n",
       "    .dataframe tbody tr th:only-of-type {\n",
       "        vertical-align: middle;\n",
       "    }\n",
       "\n",
       "    .dataframe tbody tr th {\n",
       "        vertical-align: top;\n",
       "    }\n",
       "\n",
       "    .dataframe thead th {\n",
       "        text-align: right;\n",
       "    }\n",
       "</style>\n",
       "<table border=\"1\" class=\"dataframe\">\n",
       "  <thead>\n",
       "    <tr style=\"text-align: right;\">\n",
       "      <th></th>\n",
       "      <th>bedrooms</th>\n",
       "      <th>bathrooms</th>\n",
       "      <th>square_feet</th>\n",
       "      <th>tax_value</th>\n",
       "      <th>year_built</th>\n",
       "      <th>taxamount</th>\n",
       "      <th>fips</th>\n",
       "    </tr>\n",
       "  </thead>\n",
       "  <tbody>\n",
       "    <tr>\n",
       "      <th>4</th>\n",
       "      <td>4.0</td>\n",
       "      <td>2.0</td>\n",
       "      <td>3633.0</td>\n",
       "      <td>296425.0</td>\n",
       "      <td>2005.0</td>\n",
       "      <td>6941.39</td>\n",
       "      <td>6037.0</td>\n",
       "    </tr>\n",
       "    <tr>\n",
       "      <th>6</th>\n",
       "      <td>3.0</td>\n",
       "      <td>4.0</td>\n",
       "      <td>1620.0</td>\n",
       "      <td>847770.0</td>\n",
       "      <td>2011.0</td>\n",
       "      <td>10244.94</td>\n",
       "      <td>6037.0</td>\n",
       "    </tr>\n",
       "    <tr>\n",
       "      <th>7</th>\n",
       "      <td>3.0</td>\n",
       "      <td>2.0</td>\n",
       "      <td>2077.0</td>\n",
       "      <td>646760.0</td>\n",
       "      <td>1926.0</td>\n",
       "      <td>7924.68</td>\n",
       "      <td>6037.0</td>\n",
       "    </tr>\n",
       "    <tr>\n",
       "      <th>11</th>\n",
       "      <td>0.0</td>\n",
       "      <td>0.0</td>\n",
       "      <td>1200.0</td>\n",
       "      <td>5328.0</td>\n",
       "      <td>1972.0</td>\n",
       "      <td>91.60</td>\n",
       "      <td>6037.0</td>\n",
       "    </tr>\n",
       "    <tr>\n",
       "      <th>14</th>\n",
       "      <td>0.0</td>\n",
       "      <td>0.0</td>\n",
       "      <td>171.0</td>\n",
       "      <td>6920.0</td>\n",
       "      <td>1973.0</td>\n",
       "      <td>255.17</td>\n",
       "      <td>6037.0</td>\n",
       "    </tr>\n",
       "  </tbody>\n",
       "</table>\n",
       "</div>"
      ],
      "text/plain": [
       "    bedrooms  bathrooms  square_feet  tax_value  year_built  taxamount    fips\n",
       "4        4.0        2.0       3633.0   296425.0      2005.0    6941.39  6037.0\n",
       "6        3.0        4.0       1620.0   847770.0      2011.0   10244.94  6037.0\n",
       "7        3.0        2.0       2077.0   646760.0      1926.0    7924.68  6037.0\n",
       "11       0.0        0.0       1200.0     5328.0      1972.0      91.60  6037.0\n",
       "14       0.0        0.0        171.0     6920.0      1973.0     255.17  6037.0"
      ]
     },
     "execution_count": 3,
     "metadata": {},
     "output_type": "execute_result"
    }
   ],
   "source": [
    "zillow.head()"
   ]
  },
  {
   "cell_type": "markdown",
   "id": "3ea6f959",
   "metadata": {},
   "source": [
    "## 1.Apply the scalers we talked about in this lesson to your data and visualize the results for the unscaled and scaled distribution ."
   ]
  },
  {
   "cell_type": "code",
   "execution_count": 17,
   "id": "3bb2d8d1",
   "metadata": {},
   "outputs": [],
   "source": [
    "normal_cols = ['bedrooms','bathrooms','year_built']\n",
    "log_cols = ['square_feet','taxamount']"
   ]
  },
  {
   "cell_type": "code",
   "execution_count": 5,
   "id": "6ec93cff",
   "metadata": {},
   "outputs": [],
   "source": [
    "zillow_scaled = zillow.copy()"
   ]
  },
  {
   "cell_type": "code",
   "execution_count": 6,
   "id": "b5b66ab3",
   "metadata": {},
   "outputs": [],
   "source": [
    "minmax_scaler = pre.MinMaxScaler()\n",
    "zillow_scaled[['bedrooms_minmax','bathrooms_minmax', 'year_built_minmax']] = minmax_scaler.fit_transform(zillow[normal_cols])\n",
    "\n",
    "standard_scaler = pre.StandardScaler()\n",
    "zillow_scaled[['bedrooms_standard','bathrooms_standard', 'year_built_standard']] = standard_scaler.fit_transform(zillow[normal_cols])\n",
    "\n",
    "robust_scaler = pre.RobustScaler()\n",
    "zillow_scaled[['bedrooms_robust','bathrooms_robust', 'year_built_robust']] = robust_scaler.fit_transform(zillow[normal_cols])\n",
    "\n"
   ]
  },
  {
   "cell_type": "markdown",
   "id": "12568d5b",
   "metadata": {},
   "source": [
    "## Vizualize"
   ]
  },
  {
   "cell_type": "code",
   "execution_count": 7,
   "id": "dfa70392",
   "metadata": {
    "scrolled": true
   },
   "outputs": [
    {
     "data": {
      "image/png": "[encoded data removed]",
      "text/plain": [
       "<Figure size 1152x432 with 4 Axes>"
      ]
     },
     "metadata": {
      "needs_background": "light"
     },
     "output_type": "display_data"
    },
    {
     "data": {
      "image/png": "[encoded data removed]",
      "text/plain": [
       "<Figure size 1152x432 with 4 Axes>"
      ]
     },
     "metadata": {
      "needs_background": "light"
     },
     "output_type": "display_data"
    },
    {
     "data": {
      "image/png": "[encoded data removed]",
      "text/plain": [
       "<Figure size 1152x432 with 4 Axes>"
      ]
     },
     "metadata": {
      "needs_background": "light"
     },
     "output_type": "display_data"
    }
   ],
   "source": [
    "for col in normal_cols:\n",
    "    fig, (ax1, ax2, ax3, ax4) = plt.subplots(1,4, figsize=(16,6))\n",
    "    fig.suptitle(f'{col}')\n",
    "    ax1.hist(zillow_scaled[col], ec='black')\n",
    "    ax1.set_title('Original')\n",
    "\n",
    "    ax2.hist(zillow_scaled[f'{col}_minmax'], ec='black')\n",
    "    ax2.set_title('minmax scaler')\n",
    "\n",
    "    ax3.hist(zillow_scaled[f'{col}_standard'], ec='black')\n",
    "    ax3.set_title('standard scaler')\n",
    "\n",
    "    ax4.hist(zillow_scaled[f'{col}_robust'], ec='black')\n",
    "    ax4.set_title('robust scaler')"
   ]
  },
  {
   "cell_type": "code",
   "execution_count": 8,
   "id": "66ae9e19",
   "metadata": {},
   "outputs": [
    {
     "data": {
      "image/png": "[encoded data removed]",
      "text/plain": [
       "<Figure size 1152x432 with 2 Axes>"
      ]
     },
     "metadata": {
      "needs_background": "light"
     },
     "output_type": "display_data"
    },
    {
     "data": {
      "image/png": "[encoded data removed]",
      "text/plain": [
       "<Figure size 1152x432 with 2 Axes>"
      ]
     },
     "metadata": {
      "needs_background": "light"
     },
     "output_type": "display_data"
    }
   ],
   "source": [
    "for col in log_cols:\n",
    "    fig, (ax1, ax2) = plt.subplots(1,2, figsize=(16,6))\n",
    "    ax1.hist(zillow_scaled[col])\n",
    "    ax1.set_title('Original')\n",
    "    ax2.hist(np.log(zillow_scaled[col]), bins = 25)\n",
    "    ax2.set_title(f'Log Scaling {col}')\n",
    "    plt.show()"
   ]
  },
  {
   "cell_type": "markdown",
   "id": "e6970101",
   "metadata": {},
   "source": [
    "## 2. Apply the ```.inverse_transform``` method to your scaled data. Is the resulting dataset the exact same as the original data?"
   ]
  },
  {
   "cell_type": "code",
   "execution_count": 9,
   "id": "3f392240",
   "metadata": {
    "scrolled": true
   },
   "outputs": [
    {
     "data": {
      "text/html": [
       "<div>\n",
       "<style scoped>\n",
       "    .dataframe tbody tr th:only-of-type {\n",
       "        vertical-align: middle;\n",
       "    }\n",
       "\n",
       "    .dataframe tbody tr th {\n",
       "        vertical-align: top;\n",
       "    }\n",
       "\n",
       "    .dataframe thead th {\n",
       "        text-align: right;\n",
       "    }\n",
       "</style>\n",
       "<table border=\"1\" class=\"dataframe\">\n",
       "  <thead>\n",
       "    <tr style=\"text-align: right;\">\n",
       "      <th></th>\n",
       "      <th>bedrooms</th>\n",
       "      <th>bathrooms</th>\n",
       "      <th>square_feet</th>\n",
       "      <th>tax_value</th>\n",
       "      <th>year_built</th>\n",
       "      <th>taxamount</th>\n",
       "      <th>fips</th>\n",
       "      <th>bedrooms_minmax</th>\n",
       "      <th>bathrooms_minmax</th>\n",
       "      <th>year_built_minmax</th>\n",
       "      <th>...</th>\n",
       "      <th>year_built_robust</th>\n",
       "      <th>bedrooms_minmax_inverse</th>\n",
       "      <th>bathrooms_minmax_inverse</th>\n",
       "      <th>year_built_minmax_inverse</th>\n",
       "      <th>bedrooms_standard_inverse</th>\n",
       "      <th>bathrooms_standard_inverse</th>\n",
       "      <th>year_built_standard_inverse</th>\n",
       "      <th>bedrooms_robust_inverse</th>\n",
       "      <th>bathrooms_robust_inverse</th>\n",
       "      <th>year_built_robust_inverse</th>\n",
       "    </tr>\n",
       "  </thead>\n",
       "  <tbody>\n",
       "    <tr>\n",
       "      <th>4</th>\n",
       "      <td>4.0</td>\n",
       "      <td>2.0</td>\n",
       "      <td>3633.0</td>\n",
       "      <td>296425.0</td>\n",
       "      <td>2005.0</td>\n",
       "      <td>6941.39</td>\n",
       "      <td>6037.0</td>\n",
       "      <td>0.16</td>\n",
       "      <td>0.0625</td>\n",
       "      <td>0.948837</td>\n",
       "      <td>...</td>\n",
       "      <td>1.740741</td>\n",
       "      <td>0.16</td>\n",
       "      <td>0.0625</td>\n",
       "      <td>0.948837</td>\n",
       "      <td>0.749068</td>\n",
       "      <td>-0.242646</td>\n",
       "      <td>1.987871</td>\n",
       "      <td>7.0</td>\n",
       "      <td>4.0</td>\n",
       "      <td>56093.0</td>\n",
       "    </tr>\n",
       "    <tr>\n",
       "      <th>6</th>\n",
       "      <td>3.0</td>\n",
       "      <td>4.0</td>\n",
       "      <td>1620.0</td>\n",
       "      <td>847770.0</td>\n",
       "      <td>2011.0</td>\n",
       "      <td>10244.94</td>\n",
       "      <td>6037.0</td>\n",
       "      <td>0.12</td>\n",
       "      <td>0.1250</td>\n",
       "      <td>0.976744</td>\n",
       "      <td>...</td>\n",
       "      <td>1.962963</td>\n",
       "      <td>0.12</td>\n",
       "      <td>0.1250</td>\n",
       "      <td>0.976744</td>\n",
       "      <td>-0.323203</td>\n",
       "      <td>1.776437</td>\n",
       "      <td>2.258745</td>\n",
       "      <td>6.0</td>\n",
       "      <td>6.0</td>\n",
       "      <td>56255.0</td>\n",
       "    </tr>\n",
       "    <tr>\n",
       "      <th>7</th>\n",
       "      <td>3.0</td>\n",
       "      <td>2.0</td>\n",
       "      <td>2077.0</td>\n",
       "      <td>646760.0</td>\n",
       "      <td>1926.0</td>\n",
       "      <td>7924.68</td>\n",
       "      <td>6037.0</td>\n",
       "      <td>0.12</td>\n",
       "      <td>0.0625</td>\n",
       "      <td>0.581395</td>\n",
       "      <td>...</td>\n",
       "      <td>-1.185185</td>\n",
       "      <td>0.12</td>\n",
       "      <td>0.0625</td>\n",
       "      <td>0.581395</td>\n",
       "      <td>-0.323203</td>\n",
       "      <td>-0.242646</td>\n",
       "      <td>-1.578630</td>\n",
       "      <td>6.0</td>\n",
       "      <td>4.0</td>\n",
       "      <td>53960.0</td>\n",
       "    </tr>\n",
       "    <tr>\n",
       "      <th>11</th>\n",
       "      <td>0.0</td>\n",
       "      <td>0.0</td>\n",
       "      <td>1200.0</td>\n",
       "      <td>5328.0</td>\n",
       "      <td>1972.0</td>\n",
       "      <td>91.60</td>\n",
       "      <td>6037.0</td>\n",
       "      <td>0.00</td>\n",
       "      <td>0.0000</td>\n",
       "      <td>0.795349</td>\n",
       "      <td>...</td>\n",
       "      <td>0.518519</td>\n",
       "      <td>0.00</td>\n",
       "      <td>0.0000</td>\n",
       "      <td>0.795349</td>\n",
       "      <td>-3.540018</td>\n",
       "      <td>-2.261729</td>\n",
       "      <td>0.498067</td>\n",
       "      <td>3.0</td>\n",
       "      <td>2.0</td>\n",
       "      <td>55202.0</td>\n",
       "    </tr>\n",
       "    <tr>\n",
       "      <th>14</th>\n",
       "      <td>0.0</td>\n",
       "      <td>0.0</td>\n",
       "      <td>171.0</td>\n",
       "      <td>6920.0</td>\n",
       "      <td>1973.0</td>\n",
       "      <td>255.17</td>\n",
       "      <td>6037.0</td>\n",
       "      <td>0.00</td>\n",
       "      <td>0.0000</td>\n",
       "      <td>0.800000</td>\n",
       "      <td>...</td>\n",
       "      <td>0.555556</td>\n",
       "      <td>0.00</td>\n",
       "      <td>0.0000</td>\n",
       "      <td>0.800000</td>\n",
       "      <td>-3.540018</td>\n",
       "      <td>-2.261729</td>\n",
       "      <td>0.543212</td>\n",
       "      <td>3.0</td>\n",
       "      <td>2.0</td>\n",
       "      <td>55229.0</td>\n",
       "    </tr>\n",
       "  </tbody>\n",
       "</table>\n",
       "<p>5 rows × 25 columns</p>\n",
       "</div>"
      ],
      "text/plain": [
       "    bedrooms  bathrooms  square_feet  tax_value  year_built  taxamount  \\\n",
       "4        4.0        2.0       3633.0   296425.0      2005.0    6941.39   \n",
       "6        3.0        4.0       1620.0   847770.0      2011.0   10244.94   \n",
       "7        3.0        2.0       2077.0   646760.0      1926.0    7924.68   \n",
       "11       0.0        0.0       1200.0     5328.0      1972.0      91.60   \n",
       "14       0.0        0.0        171.0     6920.0      1973.0     255.17   \n",
       "\n",
       "      fips  bedrooms_minmax  bathrooms_minmax  year_built_minmax  ...  \\\n",
       "4   6037.0             0.16            0.0625           0.948837  ...   \n",
       "6   6037.0             0.12            0.1250           0.976744  ...   \n",
       "7   6037.0             0.12            0.0625           0.581395  ...   \n",
       "11  6037.0             0.00            0.0000           0.795349  ...   \n",
       "14  6037.0             0.00            0.0000           0.800000  ...   \n",
       "\n",
       "    year_built_robust  bedrooms_minmax_inverse  bathrooms_minmax_inverse  \\\n",
       "4            1.740741                     0.16                    0.0625   \n",
       "6            1.962963                     0.12                    0.1250   \n",
       "7           -1.185185                     0.12                    0.0625   \n",
       "11           0.518519                     0.00                    0.0000   \n",
       "14           0.555556                     0.00                    0.0000   \n",
       "\n",
       "    year_built_minmax_inverse  bedrooms_standard_inverse  \\\n",
       "4                    0.948837                   0.749068   \n",
       "6                    0.976744                  -0.323203   \n",
       "7                    0.581395                  -0.323203   \n",
       "11                   0.795349                  -3.540018   \n",
       "14                   0.800000                  -3.540018   \n",
       "\n",
       "    bathrooms_standard_inverse  year_built_standard_inverse  \\\n",
       "4                    -0.242646                     1.987871   \n",
       "6                     1.776437                     2.258745   \n",
       "7                    -0.242646                    -1.578630   \n",
       "11                   -2.261729                     0.498067   \n",
       "14                   -2.261729                     0.543212   \n",
       "\n",
       "    bedrooms_robust_inverse  bathrooms_robust_inverse  \\\n",
       "4                       7.0                       4.0   \n",
       "6                       6.0                       6.0   \n",
       "7                       6.0                       4.0   \n",
       "11                      3.0                       2.0   \n",
       "14                      3.0                       2.0   \n",
       "\n",
       "    year_built_robust_inverse  \n",
       "4                     56093.0  \n",
       "6                     56255.0  \n",
       "7                     53960.0  \n",
       "11                    55202.0  \n",
       "14                    55229.0  \n",
       "\n",
       "[5 rows x 25 columns]"
      ]
     },
     "execution_count": 9,
     "metadata": {},
     "output_type": "execute_result"
    }
   ],
   "source": [
    "zillow_scaled[['bedrooms_minmax_inverse','bathrooms_minmax_inverse', 'year_built_minmax_inverse']] = minmax_scaler.fit_transform(zillow[normal_cols])\n",
    "zillow_scaled[['bedrooms_standard_inverse','bathrooms_standard_inverse', 'year_built_standard_inverse']] = standard_scaler.fit_transform(zillow[normal_cols])\n",
    "zillow_scaled[['bedrooms_robust_inverse','bathrooms_robust_inverse', 'year_built_robust_inverse']] = robust_scaler.inverse_transform(zillow[normal_cols])\n",
    "\n",
    "zillow_scaled.head()\n",
    "\n"
   ]
  },
  {
   "cell_type": "markdown",
   "id": "81ee6158",
   "metadata": {},
   "source": [
    "**Returns weird data...***"
   ]
  },
  {
   "cell_type": "markdown",
   "id": "f2ee03f8",
   "metadata": {},
   "source": [
    "## 3. Read the documentation for sklearn's ```QuantileTransformer```. Use normal for the ```output_distribution``` and apply this scaler to your data. Visualize the result of your data scaling."
   ]
  },
  {
   "cell_type": "code",
   "execution_count": 12,
   "id": "45b24540",
   "metadata": {},
   "outputs": [],
   "source": [
    "zillow_scaled2 = zillow.copy()"
   ]
  },
  {
   "cell_type": "code",
   "execution_count": 13,
   "id": "39e124a7",
   "metadata": {},
   "outputs": [],
   "source": [
    "quantile = pre.QuantileTransformer(output_distribution='normal')"
   ]
  },
  {
   "cell_type": "code",
   "execution_count": 19,
   "id": "a039baab",
   "metadata": {},
   "outputs": [],
   "source": [
    "zillow_scaled2[['bedrooms_quantile','bathrooms_quantile', 'year_built_quantile']] = quantile.fit_transform(zillow[normal_cols])\n",
    "\n"
   ]
  },
  {
   "cell_type": "code",
   "execution_count": 20,
   "id": "88738797",
   "metadata": {
    "scrolled": true
   },
   "outputs": [
    {
     "data": {
      "text/html": [
       "<div>\n",
       "<style scoped>\n",
       "    .dataframe tbody tr th:only-of-type {\n",
       "        vertical-align: middle;\n",
       "    }\n",
       "\n",
       "    .dataframe tbody tr th {\n",
       "        vertical-align: top;\n",
       "    }\n",
       "\n",
       "    .dataframe thead th {\n",
       "        text-align: right;\n",
       "    }\n",
       "</style>\n",
       "<table border=\"1\" class=\"dataframe\">\n",
       "  <thead>\n",
       "    <tr style=\"text-align: right;\">\n",
       "      <th></th>\n",
       "      <th>bedrooms</th>\n",
       "      <th>bathrooms</th>\n",
       "      <th>square_feet</th>\n",
       "      <th>tax_value</th>\n",
       "      <th>year_built</th>\n",
       "      <th>taxamount</th>\n",
       "      <th>fips</th>\n",
       "      <th>bedrooms_quantile</th>\n",
       "      <th>bathrooms_quantile</th>\n",
       "      <th>year_built_quantile</th>\n",
       "    </tr>\n",
       "  </thead>\n",
       "  <tbody>\n",
       "    <tr>\n",
       "      <th>4</th>\n",
       "      <td>4.0</td>\n",
       "      <td>2.0</td>\n",
       "      <td>3633.0</td>\n",
       "      <td>296425.0</td>\n",
       "      <td>2005.0</td>\n",
       "      <td>6941.39</td>\n",
       "      <td>6037.0</td>\n",
       "      <td>0.729877</td>\n",
       "      <td>-0.176553</td>\n",
       "      <td>1.942703</td>\n",
       "    </tr>\n",
       "    <tr>\n",
       "      <th>6</th>\n",
       "      <td>3.0</td>\n",
       "      <td>4.0</td>\n",
       "      <td>1620.0</td>\n",
       "      <td>847770.0</td>\n",
       "      <td>2011.0</td>\n",
       "      <td>10244.94</td>\n",
       "      <td>6037.0</td>\n",
       "      <td>-0.265284</td>\n",
       "      <td>1.606755</td>\n",
       "      <td>2.386340</td>\n",
       "    </tr>\n",
       "    <tr>\n",
       "      <th>7</th>\n",
       "      <td>3.0</td>\n",
       "      <td>2.0</td>\n",
       "      <td>2077.0</td>\n",
       "      <td>646760.0</td>\n",
       "      <td>1926.0</td>\n",
       "      <td>7924.68</td>\n",
       "      <td>6037.0</td>\n",
       "      <td>-0.265284</td>\n",
       "      <td>-0.176553</td>\n",
       "      <td>-1.439001</td>\n",
       "    </tr>\n",
       "    <tr>\n",
       "      <th>11</th>\n",
       "      <td>0.0</td>\n",
       "      <td>0.0</td>\n",
       "      <td>1200.0</td>\n",
       "      <td>5328.0</td>\n",
       "      <td>1972.0</td>\n",
       "      <td>91.60</td>\n",
       "      <td>6037.0</td>\n",
       "      <td>-5.199338</td>\n",
       "      <td>-5.199338</td>\n",
       "      <td>0.567211</td>\n",
       "    </tr>\n",
       "    <tr>\n",
       "      <th>14</th>\n",
       "      <td>0.0</td>\n",
       "      <td>0.0</td>\n",
       "      <td>171.0</td>\n",
       "      <td>6920.0</td>\n",
       "      <td>1973.0</td>\n",
       "      <td>255.17</td>\n",
       "      <td>6037.0</td>\n",
       "      <td>-5.199338</td>\n",
       "      <td>-5.199338</td>\n",
       "      <td>0.605955</td>\n",
       "    </tr>\n",
       "  </tbody>\n",
       "</table>\n",
       "</div>"
      ],
      "text/plain": [
       "    bedrooms  bathrooms  square_feet  tax_value  year_built  taxamount  \\\n",
       "4        4.0        2.0       3633.0   296425.0      2005.0    6941.39   \n",
       "6        3.0        4.0       1620.0   847770.0      2011.0   10244.94   \n",
       "7        3.0        2.0       2077.0   646760.0      1926.0    7924.68   \n",
       "11       0.0        0.0       1200.0     5328.0      1972.0      91.60   \n",
       "14       0.0        0.0        171.0     6920.0      1973.0     255.17   \n",
       "\n",
       "      fips  bedrooms_quantile  bathrooms_quantile  year_built_quantile  \n",
       "4   6037.0           0.729877           -0.176553             1.942703  \n",
       "6   6037.0          -0.265284            1.606755             2.386340  \n",
       "7   6037.0          -0.265284           -0.176553            -1.439001  \n",
       "11  6037.0          -5.199338           -5.199338             0.567211  \n",
       "14  6037.0          -5.199338           -5.199338             0.605955  "
      ]
     },
     "execution_count": 20,
     "metadata": {},
     "output_type": "execute_result"
    }
   ],
   "source": [
    "zillow_scaled2.head()"
   ]
  },
  {
   "cell_type": "code",
   "execution_count": 22,
   "id": "e2473b2f",
   "metadata": {},
   "outputs": [
    {
     "data": {
      "image/png": "[encoded data removed]",
      "text/plain": [
       "<Figure size 1152x432 with 2 Axes>"
      ]
     },
     "metadata": {
      "needs_background": "light"
     },
     "output_type": "display_data"
    },
    {
     "data": {
      "image/png": "[encoded data removed]",
      "text/plain": [
       "<Figure size 1152x432 with 2 Axes>"
      ]
     },
     "metadata": {
      "needs_background": "light"
     },
     "output_type": "display_data"
    },
    {
     "data": {
      "image/png": "[encoded data removed]",
      "text/plain": [
       "<Figure size 1152x432 with 2 Axes>"
      ]
     },
     "metadata": {
      "needs_background": "light"
     },
     "output_type": "display_data"
    }
   ],
   "source": [
    "for col in normal_cols:\n",
    "    fig, (ax1, ax2) = plt.subplots(1,2, figsize=(16,6))\n",
    "    fig.suptitle(f'{col}')\n",
    "    ax1.hist(zillow_scaled2[col])\n",
    "    ax1.set_title('Original')\n",
    "    ax2.hist(zillow_scaled2[f'{col}_quantile'])\n",
    "    ax2.set_title(f'Quantile Transform')\n",
    "    plt.show()"
   ]
  },
  {
   "cell_type": "markdown",
   "id": "477c2f60",
   "metadata": {},
   "source": [
    "## 4. Use the QuantileTransformer, but omit the output_distribution argument. Visualize your results. What do you notice?"
   ]
  },
  {
   "cell_type": "code",
   "execution_count": 23,
   "id": "0982dfab",
   "metadata": {},
   "outputs": [],
   "source": [
    "quantile1 = pre.QuantileTransformer()"
   ]
  },
  {
   "cell_type": "code",
   "execution_count": 24,
   "id": "d9d52818",
   "metadata": {},
   "outputs": [],
   "source": [
    "zillow_scaled2[['bedrooms_quantile1','bathrooms_quantile1', 'year_built_quantile1']] = quantile1.fit_transform(zillow[normal_cols])\n",
    "\n"
   ]
  },
  {
   "cell_type": "code",
   "execution_count": 25,
   "id": "b2614f2a",
   "metadata": {
    "scrolled": true
   },
   "outputs": [
    {
     "data": {
      "text/html": [
       "<div>\n",
       "<style scoped>\n",
       "    .dataframe tbody tr th:only-of-type {\n",
       "        vertical-align: middle;\n",
       "    }\n",
       "\n",
       "    .dataframe tbody tr th {\n",
       "        vertical-align: top;\n",
       "    }\n",
       "\n",
       "    .dataframe thead th {\n",
       "        text-align: right;\n",
       "    }\n",
       "</style>\n",
       "<table border=\"1\" class=\"dataframe\">\n",
       "  <thead>\n",
       "    <tr style=\"text-align: right;\">\n",
       "      <th></th>\n",
       "      <th>bedrooms</th>\n",
       "      <th>bathrooms</th>\n",
       "      <th>square_feet</th>\n",
       "      <th>tax_value</th>\n",
       "      <th>year_built</th>\n",
       "      <th>taxamount</th>\n",
       "      <th>fips</th>\n",
       "      <th>bedrooms_quantile</th>\n",
       "      <th>bathrooms_quantile</th>\n",
       "      <th>year_built_quantile</th>\n",
       "      <th>bedrooms_quantile1</th>\n",
       "      <th>bathrooms_quantile1</th>\n",
       "      <th>year_built_quantile1</th>\n",
       "    </tr>\n",
       "  </thead>\n",
       "  <tbody>\n",
       "    <tr>\n",
       "      <th>4</th>\n",
       "      <td>4.0</td>\n",
       "      <td>2.0</td>\n",
       "      <td>3633.0</td>\n",
       "      <td>296425.0</td>\n",
       "      <td>2005.0</td>\n",
       "      <td>6941.39</td>\n",
       "      <td>6037.0</td>\n",
       "      <td>0.729877</td>\n",
       "      <td>-0.176553</td>\n",
       "      <td>1.942703</td>\n",
       "      <td>0.766767</td>\n",
       "      <td>0.431431</td>\n",
       "      <td>0.972973</td>\n",
       "    </tr>\n",
       "    <tr>\n",
       "      <th>6</th>\n",
       "      <td>3.0</td>\n",
       "      <td>4.0</td>\n",
       "      <td>1620.0</td>\n",
       "      <td>847770.0</td>\n",
       "      <td>2011.0</td>\n",
       "      <td>10244.94</td>\n",
       "      <td>6037.0</td>\n",
       "      <td>-0.265284</td>\n",
       "      <td>1.606755</td>\n",
       "      <td>2.386340</td>\n",
       "      <td>0.393393</td>\n",
       "      <td>0.945946</td>\n",
       "      <td>0.991491</td>\n",
       "    </tr>\n",
       "    <tr>\n",
       "      <th>7</th>\n",
       "      <td>3.0</td>\n",
       "      <td>2.0</td>\n",
       "      <td>2077.0</td>\n",
       "      <td>646760.0</td>\n",
       "      <td>1926.0</td>\n",
       "      <td>7924.68</td>\n",
       "      <td>6037.0</td>\n",
       "      <td>-0.265284</td>\n",
       "      <td>-0.176553</td>\n",
       "      <td>-1.439001</td>\n",
       "      <td>0.393393</td>\n",
       "      <td>0.431431</td>\n",
       "      <td>0.075576</td>\n",
       "    </tr>\n",
       "    <tr>\n",
       "      <th>11</th>\n",
       "      <td>0.0</td>\n",
       "      <td>0.0</td>\n",
       "      <td>1200.0</td>\n",
       "      <td>5328.0</td>\n",
       "      <td>1972.0</td>\n",
       "      <td>91.60</td>\n",
       "      <td>6037.0</td>\n",
       "      <td>-5.199338</td>\n",
       "      <td>-5.199338</td>\n",
       "      <td>0.567211</td>\n",
       "      <td>0.000000</td>\n",
       "      <td>0.000000</td>\n",
       "      <td>0.711712</td>\n",
       "    </tr>\n",
       "    <tr>\n",
       "      <th>14</th>\n",
       "      <td>0.0</td>\n",
       "      <td>0.0</td>\n",
       "      <td>171.0</td>\n",
       "      <td>6920.0</td>\n",
       "      <td>1973.0</td>\n",
       "      <td>255.17</td>\n",
       "      <td>6037.0</td>\n",
       "      <td>-5.199338</td>\n",
       "      <td>-5.199338</td>\n",
       "      <td>0.605955</td>\n",
       "      <td>0.000000</td>\n",
       "      <td>0.000000</td>\n",
       "      <td>0.724224</td>\n",
       "    </tr>\n",
       "  </tbody>\n",
       "</table>\n",
       "</div>"
      ],
      "text/plain": [
       "    bedrooms  bathrooms  square_feet  tax_value  year_built  taxamount  \\\n",
       "4        4.0        2.0       3633.0   296425.0      2005.0    6941.39   \n",
       "6        3.0        4.0       1620.0   847770.0      2011.0   10244.94   \n",
       "7        3.0        2.0       2077.0   646760.0      1926.0    7924.68   \n",
       "11       0.0        0.0       1200.0     5328.0      1972.0      91.60   \n",
       "14       0.0        0.0        171.0     6920.0      1973.0     255.17   \n",
       "\n",
       "      fips  bedrooms_quantile  bathrooms_quantile  year_built_quantile  \\\n",
       "4   6037.0           0.729877           -0.176553             1.942703   \n",
       "6   6037.0          -0.265284            1.606755             2.386340   \n",
       "7   6037.0          -0.265284           -0.176553            -1.439001   \n",
       "11  6037.0          -5.199338           -5.199338             0.567211   \n",
       "14  6037.0          -5.199338           -5.199338             0.605955   \n",
       "\n",
       "    bedrooms_quantile1  bathrooms_quantile1  year_built_quantile1  \n",
       "4             0.766767             0.431431              0.972973  \n",
       "6             0.393393             0.945946              0.991491  \n",
       "7             0.393393             0.431431              0.075576  \n",
       "11            0.000000             0.000000              0.711712  \n",
       "14            0.000000             0.000000              0.724224  "
      ]
     },
     "execution_count": 25,
     "metadata": {},
     "output_type": "execute_result"
    }
   ],
   "source": [
    "zillow_scaled2.head()"
   ]
  },
  {
   "cell_type": "code",
   "execution_count": 27,
   "id": "004a45e1",
   "metadata": {},
   "outputs": [
    {
     "data": {
      "image/png": "[encoded data removed]",
      "text/plain": [
       "<Figure size 1152x432 with 2 Axes>"
      ]
     },
     "metadata": {
      "needs_background": "light"
     },
     "output_type": "display_data"
    },
    {
     "data": {
      "image/png": "[encoded data removed]",
      "text/plain": [
       "<Figure size 1152x432 with 2 Axes>"
      ]
     },
     "metadata": {
      "needs_background": "light"
     },
     "output_type": "display_data"
    },
    {
     "data": {
      "image/png": "[encoded data removed]",
      "text/plain": [
       "<Figure size 1152x432 with 2 Axes>"
      ]
     },
     "metadata": {
      "needs_background": "light"
     },
     "output_type": "display_data"
    }
   ],
   "source": [
    "for col in normal_cols:\n",
    "    fig, (ax1, ax2) = plt.subplots(1,2, figsize=(16,6))\n",
    "    fig.suptitle(f'{col}')\n",
    "    ax1.hist(zillow_scaled2[col], bins=50)\n",
    "    ax1.set_title('Original')\n",
    "    ax2.hist(zillow_scaled2[f'{col}_quantile1'], bins=50)\n",
    "    ax2.set_title(f'Quantile Transform')\n",
    "    plt.show()"
   ]
  },
  {
   "cell_type": "markdown",
   "id": "7843804c",
   "metadata": {},
   "source": [
    "## 5. Based on the work you've done, choose a scaling method for your dataset. Write a function within your ```prepare.py``` that accepts as input the train, validate, and test data splits, and returns the scaled versions of each. Be sure to only learn the parameters for scaling from your training data!"
   ]
  },
  {
   "cell_type": "code",
   "execution_count": null,
   "id": "cb51f5ba",
   "metadata": {},
   "outputs": [],
   "source": []
  },
  {
   "cell_type": "code",
   "execution_count": null,
   "id": "ccc90652",
   "metadata": {},
   "outputs": [],
   "source": []
  }
 ],
 "metadata": {
  "kernelspec": {
   "display_name": "Python 3 (ipykernel)",
   "language": "python",
   "name": "python3"
  },
  "language_info": {
   "codemirror_mode": {
    "name": "ipython",
    "version": 3
   },
   "file_extension": ".py",
   "mimetype": "text/x-python",
   "name": "python",
   "nbconvert_exporter": "python",
   "pygments_lexer": "ipython3",
   "version": "3.9.12"
  }
 },
 "nbformat": 4,
 "nbformat_minor": 5
}
